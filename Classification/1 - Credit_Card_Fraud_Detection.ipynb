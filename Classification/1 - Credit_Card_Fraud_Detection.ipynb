{
  "nbformat": 4,
  "nbformat_minor": 0,
  "metadata": {
    "colab": {
      "name": "Credit Card Fraud Detection.ipynb",
      "provenance": [],
      "authorship_tag": "ABX9TyMcF2Tpt6GVZAkkE0I62vl3",
      "include_colab_link": true
    },
    "kernelspec": {
      "name": "python3",
      "display_name": "Python 3"
    },
    "language_info": {
      "name": "python"
    }
  },
  "cells": [
    {
      "cell_type": "markdown",
      "metadata": {
        "id": "view-in-github",
        "colab_type": "text"
      },
      "source": [
        "<a href=\"https://colab.research.google.com/github/Juanete0809/ML_Projects/blob/main/Classification/1%20-%20Credit_Card_Fraud_Detection.ipynb\" target=\"_parent\"><img src=\"https://colab.research.google.com/assets/colab-badge.svg\" alt=\"Open In Colab\"/></a>"
      ]
    },
    {
      "cell_type": "markdown",
      "metadata": {
        "id": "pk5S6X46NiKQ"
      },
      "source": [
        "# Credit Card Fraud Detection\n",
        "\n",
        "Here we have a binary clasification problem. The objective is to detect possible credit card fraud events.\n",
        "\n",
        "We will use different aproaches and compare them."
      ]
    },
    {
      "cell_type": "markdown",
      "metadata": {
        "id": "Qhxztx1vN0KU"
      },
      "source": [
        "# Step 1: Load Dataset and perform EDA"
      ]
    },
    {
      "cell_type": "code",
      "metadata": {
        "id": "egqWuvH6N_Fw",
        "colab": {
          "base_uri": "https://localhost:8080/"
        },
        "outputId": "38e2a07c-ee83-4c84-9dfd-66a85d36cf83"
      },
      "source": [
        "from google.colab import drive \n",
        "drive.mount('/content/gdrive')"
      ],
      "execution_count": 2,
      "outputs": [
        {
          "output_type": "stream",
          "text": [
            "Mounted at /content/gdrive\n"
          ],
          "name": "stdout"
        }
      ]
    },
    {
      "cell_type": "code",
      "metadata": {
        "id": "v5hm_RmAOjPq"
      },
      "source": [
        "import pandas as pd \n",
        "import numpy as np\n",
        "import matplotlib.pyplot as plt\n",
        "from sklearn.preprocessing import StandardScaler\n",
        "from sklearn.model_selection import train_test_split\n",
        "import seaborn as sns"
      ],
      "execution_count": 17,
      "outputs": []
    },
    {
      "cell_type": "code",
      "metadata": {
        "colab": {
          "base_uri": "https://localhost:8080/",
          "height": 224
        },
        "id": "bfBXWMGTOkLb",
        "outputId": "286f7709-b665-43bd-ca3e-dec8f9acac0d"
      },
      "source": [
        "df = pd.read_csv('/content/gdrive/MyDrive/Machine Learning Projects/2 - Credit Card Fraud Detection/creditcard.csv')\n",
        "\n",
        "df.head()"
      ],
      "execution_count": 4,
      "outputs": [
        {
          "output_type": "execute_result",
          "data": {
            "text/html": [
              "<div>\n",
              "<style scoped>\n",
              "    .dataframe tbody tr th:only-of-type {\n",
              "        vertical-align: middle;\n",
              "    }\n",
              "\n",
              "    .dataframe tbody tr th {\n",
              "        vertical-align: top;\n",
              "    }\n",
              "\n",
              "    .dataframe thead th {\n",
              "        text-align: right;\n",
              "    }\n",
              "</style>\n",
              "<table border=\"1\" class=\"dataframe\">\n",
              "  <thead>\n",
              "    <tr style=\"text-align: right;\">\n",
              "      <th></th>\n",
              "      <th>Time</th>\n",
              "      <th>V1</th>\n",
              "      <th>V2</th>\n",
              "      <th>V3</th>\n",
              "      <th>V4</th>\n",
              "      <th>V5</th>\n",
              "      <th>V6</th>\n",
              "      <th>V7</th>\n",
              "      <th>V8</th>\n",
              "      <th>V9</th>\n",
              "      <th>V10</th>\n",
              "      <th>V11</th>\n",
              "      <th>V12</th>\n",
              "      <th>V13</th>\n",
              "      <th>V14</th>\n",
              "      <th>V15</th>\n",
              "      <th>V16</th>\n",
              "      <th>V17</th>\n",
              "      <th>V18</th>\n",
              "      <th>V19</th>\n",
              "      <th>V20</th>\n",
              "      <th>V21</th>\n",
              "      <th>V22</th>\n",
              "      <th>V23</th>\n",
              "      <th>V24</th>\n",
              "      <th>V25</th>\n",
              "      <th>V26</th>\n",
              "      <th>V27</th>\n",
              "      <th>V28</th>\n",
              "      <th>Amount</th>\n",
              "      <th>Class</th>\n",
              "    </tr>\n",
              "  </thead>\n",
              "  <tbody>\n",
              "    <tr>\n",
              "      <th>0</th>\n",
              "      <td>0.0</td>\n",
              "      <td>-1.359807</td>\n",
              "      <td>-0.072781</td>\n",
              "      <td>2.536347</td>\n",
              "      <td>1.378155</td>\n",
              "      <td>-0.338321</td>\n",
              "      <td>0.462388</td>\n",
              "      <td>0.239599</td>\n",
              "      <td>0.098698</td>\n",
              "      <td>0.363787</td>\n",
              "      <td>0.090794</td>\n",
              "      <td>-0.551600</td>\n",
              "      <td>-0.617801</td>\n",
              "      <td>-0.991390</td>\n",
              "      <td>-0.311169</td>\n",
              "      <td>1.468177</td>\n",
              "      <td>-0.470401</td>\n",
              "      <td>0.207971</td>\n",
              "      <td>0.025791</td>\n",
              "      <td>0.403993</td>\n",
              "      <td>0.251412</td>\n",
              "      <td>-0.018307</td>\n",
              "      <td>0.277838</td>\n",
              "      <td>-0.110474</td>\n",
              "      <td>0.066928</td>\n",
              "      <td>0.128539</td>\n",
              "      <td>-0.189115</td>\n",
              "      <td>0.133558</td>\n",
              "      <td>-0.021053</td>\n",
              "      <td>149.62</td>\n",
              "      <td>0</td>\n",
              "    </tr>\n",
              "    <tr>\n",
              "      <th>1</th>\n",
              "      <td>0.0</td>\n",
              "      <td>1.191857</td>\n",
              "      <td>0.266151</td>\n",
              "      <td>0.166480</td>\n",
              "      <td>0.448154</td>\n",
              "      <td>0.060018</td>\n",
              "      <td>-0.082361</td>\n",
              "      <td>-0.078803</td>\n",
              "      <td>0.085102</td>\n",
              "      <td>-0.255425</td>\n",
              "      <td>-0.166974</td>\n",
              "      <td>1.612727</td>\n",
              "      <td>1.065235</td>\n",
              "      <td>0.489095</td>\n",
              "      <td>-0.143772</td>\n",
              "      <td>0.635558</td>\n",
              "      <td>0.463917</td>\n",
              "      <td>-0.114805</td>\n",
              "      <td>-0.183361</td>\n",
              "      <td>-0.145783</td>\n",
              "      <td>-0.069083</td>\n",
              "      <td>-0.225775</td>\n",
              "      <td>-0.638672</td>\n",
              "      <td>0.101288</td>\n",
              "      <td>-0.339846</td>\n",
              "      <td>0.167170</td>\n",
              "      <td>0.125895</td>\n",
              "      <td>-0.008983</td>\n",
              "      <td>0.014724</td>\n",
              "      <td>2.69</td>\n",
              "      <td>0</td>\n",
              "    </tr>\n",
              "    <tr>\n",
              "      <th>2</th>\n",
              "      <td>1.0</td>\n",
              "      <td>-1.358354</td>\n",
              "      <td>-1.340163</td>\n",
              "      <td>1.773209</td>\n",
              "      <td>0.379780</td>\n",
              "      <td>-0.503198</td>\n",
              "      <td>1.800499</td>\n",
              "      <td>0.791461</td>\n",
              "      <td>0.247676</td>\n",
              "      <td>-1.514654</td>\n",
              "      <td>0.207643</td>\n",
              "      <td>0.624501</td>\n",
              "      <td>0.066084</td>\n",
              "      <td>0.717293</td>\n",
              "      <td>-0.165946</td>\n",
              "      <td>2.345865</td>\n",
              "      <td>-2.890083</td>\n",
              "      <td>1.109969</td>\n",
              "      <td>-0.121359</td>\n",
              "      <td>-2.261857</td>\n",
              "      <td>0.524980</td>\n",
              "      <td>0.247998</td>\n",
              "      <td>0.771679</td>\n",
              "      <td>0.909412</td>\n",
              "      <td>-0.689281</td>\n",
              "      <td>-0.327642</td>\n",
              "      <td>-0.139097</td>\n",
              "      <td>-0.055353</td>\n",
              "      <td>-0.059752</td>\n",
              "      <td>378.66</td>\n",
              "      <td>0</td>\n",
              "    </tr>\n",
              "    <tr>\n",
              "      <th>3</th>\n",
              "      <td>1.0</td>\n",
              "      <td>-0.966272</td>\n",
              "      <td>-0.185226</td>\n",
              "      <td>1.792993</td>\n",
              "      <td>-0.863291</td>\n",
              "      <td>-0.010309</td>\n",
              "      <td>1.247203</td>\n",
              "      <td>0.237609</td>\n",
              "      <td>0.377436</td>\n",
              "      <td>-1.387024</td>\n",
              "      <td>-0.054952</td>\n",
              "      <td>-0.226487</td>\n",
              "      <td>0.178228</td>\n",
              "      <td>0.507757</td>\n",
              "      <td>-0.287924</td>\n",
              "      <td>-0.631418</td>\n",
              "      <td>-1.059647</td>\n",
              "      <td>-0.684093</td>\n",
              "      <td>1.965775</td>\n",
              "      <td>-1.232622</td>\n",
              "      <td>-0.208038</td>\n",
              "      <td>-0.108300</td>\n",
              "      <td>0.005274</td>\n",
              "      <td>-0.190321</td>\n",
              "      <td>-1.175575</td>\n",
              "      <td>0.647376</td>\n",
              "      <td>-0.221929</td>\n",
              "      <td>0.062723</td>\n",
              "      <td>0.061458</td>\n",
              "      <td>123.50</td>\n",
              "      <td>0</td>\n",
              "    </tr>\n",
              "    <tr>\n",
              "      <th>4</th>\n",
              "      <td>2.0</td>\n",
              "      <td>-1.158233</td>\n",
              "      <td>0.877737</td>\n",
              "      <td>1.548718</td>\n",
              "      <td>0.403034</td>\n",
              "      <td>-0.407193</td>\n",
              "      <td>0.095921</td>\n",
              "      <td>0.592941</td>\n",
              "      <td>-0.270533</td>\n",
              "      <td>0.817739</td>\n",
              "      <td>0.753074</td>\n",
              "      <td>-0.822843</td>\n",
              "      <td>0.538196</td>\n",
              "      <td>1.345852</td>\n",
              "      <td>-1.119670</td>\n",
              "      <td>0.175121</td>\n",
              "      <td>-0.451449</td>\n",
              "      <td>-0.237033</td>\n",
              "      <td>-0.038195</td>\n",
              "      <td>0.803487</td>\n",
              "      <td>0.408542</td>\n",
              "      <td>-0.009431</td>\n",
              "      <td>0.798278</td>\n",
              "      <td>-0.137458</td>\n",
              "      <td>0.141267</td>\n",
              "      <td>-0.206010</td>\n",
              "      <td>0.502292</td>\n",
              "      <td>0.219422</td>\n",
              "      <td>0.215153</td>\n",
              "      <td>69.99</td>\n",
              "      <td>0</td>\n",
              "    </tr>\n",
              "  </tbody>\n",
              "</table>\n",
              "</div>"
            ],
            "text/plain": [
              "   Time        V1        V2        V3  ...       V27       V28  Amount  Class\n",
              "0   0.0 -1.359807 -0.072781  2.536347  ...  0.133558 -0.021053  149.62      0\n",
              "1   0.0  1.191857  0.266151  0.166480  ... -0.008983  0.014724    2.69      0\n",
              "2   1.0 -1.358354 -1.340163  1.773209  ... -0.055353 -0.059752  378.66      0\n",
              "3   1.0 -0.966272 -0.185226  1.792993  ...  0.062723  0.061458  123.50      0\n",
              "4   2.0 -1.158233  0.877737  1.548718  ...  0.219422  0.215153   69.99      0\n",
              "\n",
              "[5 rows x 31 columns]"
            ]
          },
          "metadata": {
            "tags": []
          },
          "execution_count": 4
        }
      ]
    },
    {
      "cell_type": "markdown",
      "metadata": {
        "id": "SI2VukfjQmOD"
      },
      "source": [
        "Che for null values"
      ]
    },
    {
      "cell_type": "code",
      "metadata": {
        "colab": {
          "base_uri": "https://localhost:8080/"
        },
        "id": "ZXSfKOQSQdP6",
        "outputId": "c8e8047b-8322-46a2-d5b8-2f431e2eaf95"
      },
      "source": [
        "df.isnull().values.any()"
      ],
      "execution_count": 5,
      "outputs": [
        {
          "output_type": "execute_result",
          "data": {
            "text/plain": [
              "False"
            ]
          },
          "metadata": {
            "tags": []
          },
          "execution_count": 5
        }
      ]
    },
    {
      "cell_type": "code",
      "metadata": {
        "colab": {
          "base_uri": "https://localhost:8080/"
        },
        "id": "OeBtLlNEQu24",
        "outputId": "f673e726-96e3-481d-b2a2-8a1a7ce1493d"
      },
      "source": [
        "df['Amount'].describe()"
      ],
      "execution_count": 6,
      "outputs": [
        {
          "output_type": "execute_result",
          "data": {
            "text/plain": [
              "count    284807.000000\n",
              "mean         88.349619\n",
              "std         250.120109\n",
              "min           0.000000\n",
              "25%           5.600000\n",
              "50%          22.000000\n",
              "75%          77.165000\n",
              "max       25691.160000\n",
              "Name: Amount, dtype: float64"
            ]
          },
          "metadata": {
            "tags": []
          },
          "execution_count": 6
        }
      ]
    },
    {
      "cell_type": "code",
      "metadata": {
        "colab": {
          "base_uri": "https://localhost:8080/"
        },
        "id": "w0thW_3FRNch",
        "outputId": "8d13d770-af6d-49c5-e2c2-bf150cf22d4d"
      },
      "source": [
        "not_fraud = len(df[df.Class == 0])\n",
        "fraud = len(df[df.Class == 1])\n",
        "fraud_percent = fraud / (fraud + not_fraud) * 100\n",
        "\n",
        "print(f'There are {fraud} cases in the dataset')\n",
        "print(f'The percentage of fraud ocurrences is {round(fraud_percent,4)}%')"
      ],
      "execution_count": 7,
      "outputs": [
        {
          "output_type": "stream",
          "text": [
            "There are 492 cases in the dataset\n",
            "The percentage of fraud ocurrences is 0.1727%\n"
          ],
          "name": "stdout"
        }
      ]
    },
    {
      "cell_type": "markdown",
      "metadata": {
        "id": "CrW1qSFuSmcx"
      },
      "source": [
        "Plot with Matplotlib"
      ]
    },
    {
      "cell_type": "code",
      "metadata": {
        "colab": {
          "base_uri": "https://localhost:8080/",
          "height": 295
        },
        "id": "2mndSj73SeNC",
        "outputId": "f85372e1-152e-40da-9d59-b9ecca609df6"
      },
      "source": [
        "count_classes = df.value_counts(df['Class'], sort= True)\n",
        "labels = ['Not Fraud', 'Fraud']\n",
        "\n",
        "count_classes.plot(kind = 'bar', rot = 0)\n",
        "plt.title(\"Visualization of Labels\")\n",
        "plt.ylabel(\"Count\")\n",
        "plt.xticks(range(2), labels)\n",
        "plt.show()"
      ],
      "execution_count": 8,
      "outputs": [
        {
          "output_type": "display_data",
          "data": {
            "image/png": "[encoded data removed]",
            "text/plain": [
              "<Figure size 432x288 with 1 Axes>"
            ]
          },
          "metadata": {
            "tags": [],
            "needs_background": "light"
          }
        }
      ]
    },
    {
      "cell_type": "markdown",
      "metadata": {
        "id": "O5TpCU9YVr5V"
      },
      "source": [
        "Scale the \"Amount\" column"
      ]
    },
    {
      "cell_type": "code",
      "metadata": {
        "id": "5szWcMx0Vw47"
      },
      "source": [
        "scaler = StandardScaler()\n",
        "\n",
        "df['New_amount'] = scaler.fit_transform(df[\"Amount\"].values.reshape(-1, 1))\n",
        "\n",
        "df.drop(['Amount','Time'], inplace = True, axis = 1)"
      ],
      "execution_count": 9,
      "outputs": []
    },
    {
      "cell_type": "code",
      "metadata": {
        "id": "rAIqDujeWyec"
      },
      "source": [
        "Y = df[\"Class\"]\n",
        "X = df.drop([\"Class\"], axis= 1)"
      ],
      "execution_count": 10,
      "outputs": []
    },
    {
      "cell_type": "markdown",
      "metadata": {
        "id": "by3CnPSPX_Kp"
      },
      "source": [
        "# Step 2: Training and Test the Models"
      ]
    },
    {
      "cell_type": "markdown",
      "metadata": {
        "id": "texIbmjvYIAQ"
      },
      "source": [
        "Splitting into train and test datasets"
      ]
    },
    {
      "cell_type": "code",
      "metadata": {
        "colab": {
          "base_uri": "https://localhost:8080/"
        },
        "id": "cpfoaZCnYHFD",
        "outputId": "fa5ddd35-cc94-4cb3-ef3e-7d77aa1ac3c8"
      },
      "source": [
        "train_X, test_X, train_Y, test_Y = train_test_split(X, Y, test_size= 0.3, random_state= 42)\n",
        "\n",
        "print(\"Shape of train_X: \", train_X.shape)\n",
        "print(\"Shape of test_X: \", test_X.shape)"
      ],
      "execution_count": 11,
      "outputs": [
        {
          "output_type": "stream",
          "text": [
            "Shape of train_X:  (199364, 29)\n",
            "Shape of test_X:  (85443, 29)\n"
          ],
          "name": "stdout"
        }
      ]
    },
    {
      "cell_type": "markdown",
      "metadata": {
        "id": "gN_YgEOxYX3J"
      },
      "source": [
        "This is actually a binary classification problem as we have to predict only 1 of the 2 class labels. We can apply a variety of algorithms for this problem like Random Forest, Decision Tree, Support Vector Machine algorithms, etc.\n",
        "\n",
        "In this machine learning project, we build Random Forest, Decision Tree and Logistig Regression classifiers and see which one works best. We address the “class imbalance” problem by picking the best-performed model."
      ]
    },
    {
      "cell_type": "markdown",
      "metadata": {
        "id": "zsygAhmQYxmw"
      },
      "source": [
        "## 2.1. Decision Tree"
      ]
    },
    {
      "cell_type": "code",
      "metadata": {
        "id": "LEoLIR-qYv16"
      },
      "source": [
        "from sklearn.metrics import confusion_matrix\n",
        "from sklearn.tree import DecisionTreeClassifier\n",
        "from sklearn.metrics import accuracy_score\n",
        "from sklearn.metrics import classification_report"
      ],
      "execution_count": 12,
      "outputs": []
    },
    {
      "cell_type": "markdown",
      "metadata": {
        "id": "fCK8G2YoedUA"
      },
      "source": [
        "We will perform the training with 2 metrics: \n",
        "\n",
        "* **Gini Index:** metric to measure how often a randomly chosen element would be incorrectly identified. It means an attribute with lower gini index should be preferred).\n",
        "* **Entropy:** measure of uncertainty of a random variable, it characterizes the impurity of an arbitrary collection of examples. The higher the entropy the more the information content.\n"
      ]
    },
    {
      "cell_type": "code",
      "metadata": {
        "id": "S55R2FYmePYz"
      },
      "source": [
        "# Function to perform training with giniIndex.\n",
        "def train_using_gini(X_train, X_test, y_train):\n",
        "  \n",
        "    # Creating the classifier object\n",
        "    clf_gini = DecisionTreeClassifier(criterion = \"gini\", random_state = 100,max_depth=3, min_samples_leaf=5)\n",
        "  \n",
        "    # Performing training\n",
        "    clf_gini.fit(X_train, y_train)\n",
        "    \n",
        "    return clf_gini\n",
        "      \n",
        "# Function to perform training with entropy.\n",
        "def tarin_using_entropy(X_train, X_test, y_train):\n",
        "  \n",
        "    # Decision tree with entropy\n",
        "    clf_entropy = DecisionTreeClassifier(criterion = \"entropy\", random_state = 100, max_depth = 3, min_samples_leaf = 5)\n",
        "  \n",
        "    # Performing training\n",
        "    clf_entropy.fit(X_train, y_train)\n",
        "    return clf_entropy"
      ],
      "execution_count": 13,
      "outputs": []
    },
    {
      "cell_type": "code",
      "metadata": {
        "id": "R58mmSo4gMmz"
      },
      "source": [
        "# Function to make predictions\n",
        "def prediction(X_test, clf_object):\n",
        "  \n",
        "    # Predicton on test with giniIndex\n",
        "    y_pred = clf_object.predict(X_test)\n",
        "    print(\"Predicted values:\")\n",
        "    print(y_pred)\n",
        "    \n",
        "    return y_pred\n",
        "      \n",
        "# Function to calculate accuracy\n",
        "def cal_accuracy(y_test, y_pred):\n",
        "      \n",
        "    print(\"Confusion Matrix: \", confusion_matrix(y_test, y_pred))\n",
        "      \n",
        "    print (\"Accuracy : \",\n",
        "    accuracy_score(y_test,y_pred)*100)\n",
        "      \n",
        "    print(\"Report : \",\n",
        "    classification_report(y_test, y_pred))"
      ],
      "execution_count": 14,
      "outputs": []
    },
    {
      "cell_type": "code",
      "metadata": {
        "colab": {
          "base_uri": "https://localhost:8080/"
        },
        "id": "rEqTl1nLgXlO",
        "outputId": "affc6dde-22a2-4f56-ea08-92fb0ed4ee48"
      },
      "source": [
        "# Driver code\n",
        "def main():\n",
        "      \n",
        "    # Building Phase\n",
        "    clf_gini = train_using_gini(train_X, test_X, train_Y)\n",
        "    clf_entropy = tarin_using_entropy(train_X, test_X, train_Y)\n",
        "      \n",
        "    # Operational Phase\n",
        "    print(\"Results Using Gini Index:\")\n",
        "      \n",
        "    # Prediction using gini\n",
        "    y_pred_gini = prediction(test_X, clf_gini)\n",
        "    cal_accuracy(test_Y, y_pred_gini)\n",
        "      \n",
        "    print(\"Results Using Entropy:\")\n",
        "    # Prediction using entropy\n",
        "    y_pred_entropy = prediction(test_X, clf_entropy)\n",
        "    cal_accuracy(test_Y, y_pred_entropy)\n",
        "      \n",
        "      \n",
        "# Calling main function\n",
        "if __name__==\"__main__\":\n",
        "    main()"
      ],
      "execution_count": 15,
      "outputs": [
        {
          "output_type": "stream",
          "text": [
            "Results Using Gini Index:\n",
            "Predicted values:\n",
            "[1 0 0 ... 0 0 0]\n",
            "Confusion Matrix:  [[85277    30]\n",
            " [   32   104]]\n",
            "Accuracy :  99.92743700478681\n",
            "Report :                precision    recall  f1-score   support\n",
            "\n",
            "           0       1.00      1.00      1.00     85307\n",
            "           1       0.78      0.76      0.77       136\n",
            "\n",
            "    accuracy                           1.00     85443\n",
            "   macro avg       0.89      0.88      0.89     85443\n",
            "weighted avg       1.00      1.00      1.00     85443\n",
            "\n",
            "Results Using Entropy:\n",
            "Predicted values:\n",
            "[1 0 0 ... 0 0 0]\n",
            "Confusion Matrix:  [[85272    35]\n",
            " [   20   116]]\n",
            "Accuracy :  99.93562960102057\n",
            "Report :                precision    recall  f1-score   support\n",
            "\n",
            "           0       1.00      1.00      1.00     85307\n",
            "           1       0.77      0.85      0.81       136\n",
            "\n",
            "    accuracy                           1.00     85443\n",
            "   macro avg       0.88      0.93      0.90     85443\n",
            "weighted avg       1.00      1.00      1.00     85443\n",
            "\n"
          ],
          "name": "stdout"
        }
      ]
    },
    {
      "cell_type": "markdown",
      "metadata": {
        "id": "56u7929Hlice"
      },
      "source": [
        "We can see that using Entropy we have better classification results. Next I'll plot that confusion Matrix, just by fun:"
      ]
    },
    {
      "cell_type": "code",
      "metadata": {
        "colab": {
          "base_uri": "https://localhost:8080/",
          "height": 354
        },
        "id": "SsRMVIaVly2n",
        "outputId": "26e4d48f-69b3-4975-f526-640955572b0a"
      },
      "source": [
        "clf_entropy = tarin_using_entropy(train_X, test_X, train_Y)\n",
        "y_pred_entropy = prediction(test_X, clf_entropy)\n",
        "\n",
        "cm = confusion_matrix(test_Y,y_pred_entropy)\n",
        "\n",
        "conf_matrix = pd.DataFrame(data=cm,columns=['Predicted:0','Predicted:1'],index=['Actual:0','Actual:1'])\n",
        "plt.figure(figsize = (8,5))\n",
        "sns.heatmap(conf_matrix, annot=True,fmt='d',cmap=\"YlGnBu\");\n",
        "\n",
        "TN = cm[0,0]\n",
        "TP = cm[1,1]\n",
        "FN = cm[1,0]\n",
        "FP = cm[0,1]\n",
        "\n",
        "sensitivity = TP/float(TP+FN)\n",
        "specificity = TN/float(TN+FP)"
      ],
      "execution_count": 18,
      "outputs": [
        {
          "output_type": "stream",
          "text": [
            "Predicted values:\n",
            "[1 0 0 ... 0 0 0]\n"
          ],
          "name": "stdout"
        },
        {
          "output_type": "display_data",
          "data": {
            "image/png": "[encoded data removed]",
            "text/plain": [
              "<Figure size 576x360 with 2 Axes>"
            ]
          },
          "metadata": {
            "tags": [],
            "needs_background": "light"
          }
        }
      ]
    },
    {
      "cell_type": "code",
      "metadata": {
        "colab": {
          "base_uri": "https://localhost:8080/"
        },
        "id": "jvqdp9ngnXXY",
        "outputId": "b378a3c2-cb7e-4a3e-bca5-682ba5708214"
      },
      "source": [
        "print(f'Sensitivity = {round(sensitivity,3)}')\n",
        "print(f'Specificity = {round(specificity,3)}')\n",
        "print('Positive Likelihood Ratio = Sensitivity/(1-Specificity) = ',sensitivity/(1-specificity))\n",
        "print('Negative likelihood Ratio = (1-Sensitivity)/Specificity = ',(1-sensitivity)/specificity)"
      ],
      "execution_count": 19,
      "outputs": [
        {
          "output_type": "stream",
          "text": [
            "Sensitivity = 0.853\n",
            "Specificity = 1.0\n",
            "Positive Likelihood Ratio = Sensitivity/(1-Specificity) =  2078.9100840337283\n",
            "Negative likelihood Ratio = (1-Sensitivity)/Specificity =  0.1471191840090948\n"
          ],
          "name": "stdout"
        }
      ]
    },
    {
      "cell_type": "markdown",
      "metadata": {
        "id": "tgm0l-k02Yxt"
      },
      "source": [
        "## 2.2. Random Forest"
      ]
    },
    {
      "cell_type": "code",
      "metadata": {
        "id": "cFfcrR_C2bii"
      },
      "source": [
        "from sklearn.model_selection import train_test_split\n",
        "from sklearn.ensemble import RandomForestClassifier\n",
        "from sklearn.metrics import accuracy_score\n",
        "from sklearn.preprocessing import StandardScaler, MinMaxScaler\n",
        "import pandas_profiling\n",
        "\n",
        "from matplotlib import rcParams\n",
        "import warnings\n",
        "\n",
        "warnings.filterwarnings(\"ignore\")"
      ],
      "execution_count": 20,
      "outputs": []
    },
    {
      "cell_type": "code",
      "metadata": {
        "id": "OZ_Arirp3Lo0"
      },
      "source": [
        "X_train, X_test, Y_train, Y_test = train_test_split(X, Y, test_size= 0.3, random_state= 42)\n",
        "\n",
        "X_train_scaled = scaler.fit_transform(X_train)\n",
        "\n",
        "X_test_scaled = scaler.transform(X_test)"
      ],
      "execution_count": 21,
      "outputs": []
    },
    {
      "cell_type": "code",
      "metadata": {
        "colab": {
          "base_uri": "https://localhost:8080/"
        },
        "id": "14pZqFE_6qOw",
        "outputId": "a3979a43-dc0b-406b-de98-fd03217419f8"
      },
      "source": [
        "classifier = RandomForestClassifier(n_estimators=100) # Create the classifier\n",
        "\n",
        "classifier.fit(X_train, Y_train) # Train it"
      ],
      "execution_count": 22,
      "outputs": [
        {
          "output_type": "execute_result",
          "data": {
            "text/plain": [
              "RandomForestClassifier(bootstrap=True, ccp_alpha=0.0, class_weight=None,\n",
              "                       criterion='gini', max_depth=None, max_features='auto',\n",
              "                       max_leaf_nodes=None, max_samples=None,\n",
              "                       min_impurity_decrease=0.0, min_impurity_split=None,\n",
              "                       min_samples_leaf=1, min_samples_split=2,\n",
              "                       min_weight_fraction_leaf=0.0, n_estimators=100,\n",
              "                       n_jobs=None, oob_score=False, random_state=None,\n",
              "                       verbose=0, warm_start=False)"
            ]
          },
          "metadata": {
            "tags": []
          },
          "execution_count": 22
        }
      ]
    },
    {
      "cell_type": "code",
      "metadata": {
        "id": "j1h4TVqu63JJ"
      },
      "source": [
        "Y_pred = classifier.predict(X_test) # Predict outputs"
      ],
      "execution_count": 23,
      "outputs": []
    },
    {
      "cell_type": "code",
      "metadata": {
        "colab": {
          "base_uri": "https://localhost:8080/",
          "height": 320
        },
        "id": "2n2XBQTw8M_f",
        "outputId": "dd50d1d0-9bfc-4c7c-dc32-c051f4422189"
      },
      "source": [
        "cm2 = confusion_matrix(Y_test,Y_pred)\n",
        "\n",
        "conf_matrix2 = pd.DataFrame(data=cm2,columns=['Predicted:0','Predicted:1'],index=['Actual:0','Actual:1'])\n",
        "plt.figure(figsize = (8,5))\n",
        "sns.heatmap(conf_matrix2, annot=True,fmt='d',cmap=\"YlGnBu\");\n",
        "\n",
        "TN2 = cm2[0,0]\n",
        "TP2 = cm2[1,1]\n",
        "FN2 = cm2[1,0]\n",
        "FP2 = cm2[0,1]\n",
        "\n",
        "sensitivity2 = TP2/float(TP2+FN2)\n",
        "specificity2 = TN2/float(TN2+FP2)"
      ],
      "execution_count": 24,
      "outputs": [
        {
          "output_type": "display_data",
          "data": {
            "image/png": "[encoded data removed]",
            "text/plain": [
              "<Figure size 576x360 with 2 Axes>"
            ]
          },
          "metadata": {
            "tags": [],
            "needs_background": "light"
          }
        }
      ]
    },
    {
      "cell_type": "code",
      "metadata": {
        "colab": {
          "base_uri": "https://localhost:8080/"
        },
        "id": "DoneO3sf8-7t",
        "outputId": "9edca944-7fa4-47fa-e62a-38dc9db01b57"
      },
      "source": [
        "print(f'Sensitivity = {round(sensitivity2,3)}')\n",
        "print(f'Specificity = {round(specificity2,3)}')\n",
        "print('Positive Likelihood Ratio = Sensitivity/(1-Specificity) = ',sensitivity2/(1-specificity2))\n",
        "print('Negative likelihood Ratio = (1-Sensitivity)/Specificity = ',(1-sensitivity2)/specificity2)"
      ],
      "execution_count": 25,
      "outputs": [
        {
          "output_type": "stream",
          "text": [
            "Sensitivity = 0.801\n",
            "Specificity = 1.0\n",
            "Positive Likelihood Ratio = Sensitivity/(1-Specificity) =  9767.293067224788\n",
            "Negative likelihood Ratio = (1-Sensitivity)/Specificity =  0.1985457037445693\n"
          ],
          "name": "stdout"
        }
      ]
    },
    {
      "cell_type": "markdown",
      "metadata": {
        "id": "4wGjQTBMbS0V"
      },
      "source": [
        "This results are pretty good, but we'll see if we can improve it. We will check the importance of the different variables used in the prediction and try to discard them."
      ]
    },
    {
      "cell_type": "code",
      "metadata": {
        "id": "syS4ONWqbkXI"
      },
      "source": [
        "feature_importances_df = pd.DataFrame(\n",
        "    {\"feature\": list(X.columns), \"importance\": classifier.feature_importances_}\n",
        ").sort_values(\"importance\", ascending=False)\n",
        "\n",
        "feature_importances_df"
      ],
      "execution_count": null,
      "outputs": []
    },
    {
      "cell_type": "code",
      "metadata": {
        "colab": {
          "base_uri": "https://localhost:8080/",
          "height": 362
        },
        "id": "Y-RgyCltd2MP",
        "outputId": "d327d4c7-d4b4-4f6e-d8bf-02226034b68f"
      },
      "source": [
        "# Vasualization\n",
        "\n",
        "sns.barplot(x=feature_importances_df.feature, y=feature_importances_df.importance)\n",
        "\n",
        "plt.xlabel(\"Feature Importance Score\")\n",
        "plt.ylabel(\"Features\")\n",
        "plt.title(\"Visualizing Important Features\")\n",
        "plt.xticks(rotation=45, horizontalalignment=\"right\", fontweight=\"light\", fontsize=\"x-large\")\n",
        "plt.show()"
      ],
      "execution_count": 27,
      "outputs": [
        {
          "output_type": "display_data",
          "data": {
            "image/png": "[encoded data removed]",
            "text/plain": [
              "<Figure size 432x288 with 1 Axes>"
            ]
          },
          "metadata": {
            "tags": [],
            "needs_background": "light"
          }
        }
      ]
    },
    {
      "cell_type": "markdown",
      "metadata": {
        "id": "mUTxGTA0dnhy"
      },
      "source": [
        "We're discarding the variables that have an importance of less than 0.013"
      ]
    },
    {
      "cell_type": "code",
      "metadata": {
        "id": "S69nTNPPdwo3"
      },
      "source": [
        "# cargar datos con características seleccionadas\n",
        "X_new = df.drop([\"V2\", \"V25\", \"V24\", \"V13\", \"V28\", \"V8\", \"V22\", \"V23\", \"New_amount\", \"Class\"], axis=1)\n",
        "y_new = df[\"Class\"]\n",
        "\n",
        "# estandarizar el conjunto de datos\n",
        "scaler = StandardScaler()\n",
        "X_scaled_new = scaler.fit_transform(X_new)\n",
        "\n",
        "# dividir en conjunto de entrenamiento y de prueba\n",
        "X_train_n, X_test_n, y_train_n, y_test_n = train_test_split(X_scaled_new, y_new, stratify=y_new, test_size=0.3, random_state=42)"
      ],
      "execution_count": 32,
      "outputs": []
    },
    {
      "cell_type": "code",
      "metadata": {
        "id": "Ey3fN9ksffpE"
      },
      "source": [
        "# New Classificator\n",
        "clf = RandomForestClassifier(n_estimators=100)\n",
        "\n",
        "clf.fit(X_train_n, y_train_n)"
      ],
      "execution_count": 33,
      "outputs": []
    },
    {
      "cell_type": "code",
      "metadata": {
        "colab": {
          "base_uri": "https://localhost:8080/",
          "height": 320
        },
        "id": "vsZPI7s0f44u",
        "outputId": "1a1422aa-4c0e-4f8b-bd9a-dbee1e1c8cad"
      },
      "source": [
        "Y_pred_n = clf.predict(X_test_n) # Predict outputs\n",
        "\n",
        "cm3 = confusion_matrix(y_test_n,Y_pred_n)\n",
        "\n",
        "conf_matrix3 = pd.DataFrame(data=cm3,columns=['Predicted:0','Predicted:1'],index=['Actual:0','Actual:1'])\n",
        "plt.figure(figsize = (8,5))\n",
        "sns.heatmap(conf_matrix3, annot=True,fmt='d',cmap=\"YlGnBu\");\n",
        "\n",
        "TN3 = cm3[0,0]\n",
        "TP3 = cm3[1,1]\n",
        "FN3 = cm3[1,0]\n",
        "FP3 = cm3[0,1]\n",
        "\n",
        "sensitivity3 = TP3/float(TP3+FN3)\n",
        "specificity3 = TN3/float(TN3+FP3)"
      ],
      "execution_count": 43,
      "outputs": [
        {
          "output_type": "display_data",
          "data": {
            "image/png": "[encoded data removed]",
            "text/plain": [
              "<Figure size 576x360 with 2 Axes>"
            ]
          },
          "metadata": {
            "tags": [],
            "needs_background": "light"
          }
        }
      ]
    },
    {
      "cell_type": "code",
      "metadata": {
        "colab": {
          "base_uri": "https://localhost:8080/"
        },
        "id": "ZbK_BwkNis-I",
        "outputId": "7d471b27-1f70-4c15-94ee-78bfb64aaed9"
      },
      "source": [
        "print(f'Sensitivity = {round(sensitivity3,3)}')\n",
        "print(f'Specificity = {round(specificity3,3)}')\n",
        "print('Positive Likelihood Ratio = Sensitivity/(1-Specificity) = ',sensitivity3/(1-specificity3))\n",
        "print('Negative likelihood Ratio = (1-Sensitivity)/Specificity = ',(1-sensitivity3)/specificity3)"
      ],
      "execution_count": 44,
      "outputs": [
        {
          "output_type": "stream",
          "text": [
            "Sensitivity = 0.777\n",
            "Specificity = 1.0\n",
            "Positive Likelihood Ratio = Sensitivity/(1-Specificity) =  13255.304054050299\n",
            "Negative likelihood Ratio = (1-Sensitivity)/Specificity =  0.2229860444334592\n"
          ],
          "name": "stdout"
        }
      ]
    },
    {
      "cell_type": "markdown",
      "metadata": {
        "id": "RjompRAni4zg"
      },
      "source": [
        "It seems that by deleting some variables we make the model perform worse than before..."
      ]
    },
    {
      "cell_type": "markdown",
      "metadata": {
        "id": "wKQqujRFhqNa"
      },
      "source": [
        "## 2.3. Logistic Regression"
      ]
    },
    {
      "cell_type": "code",
      "metadata": {
        "id": "Rz940DSMhoPT"
      },
      "source": [
        "from sklearn.linear_model import LogisticRegression"
      ],
      "execution_count": 45,
      "outputs": []
    },
    {
      "cell_type": "code",
      "metadata": {
        "id": "uLKfXocijUNn"
      },
      "source": [
        "X_train_l, X_test_l, Y_train_l, Y_test_l = train_test_split(X, Y, test_size= 0.3, random_state= 42)\n",
        "\n",
        "X_train_scaled_l = scaler.fit_transform(X_train_l)\n",
        "\n",
        "X_test_scaled_l = scaler.transform(X_test_l)"
      ],
      "execution_count": 46,
      "outputs": []
    },
    {
      "cell_type": "code",
      "metadata": {
        "colab": {
          "base_uri": "https://localhost:8080/"
        },
        "id": "HyRs7N4ujIg_",
        "outputId": "717c0425-0f3e-44be-adce-79eed79c42e9"
      },
      "source": [
        "# Train the model\n",
        "\n",
        "log_reg = LogisticRegression()\n",
        "\n",
        "log_reg.fit(X_train_scaled_l,Y_train_l)"
      ],
      "execution_count": 47,
      "outputs": [
        {
          "output_type": "execute_result",
          "data": {
            "text/plain": [
              "LogisticRegression(C=1.0, class_weight=None, dual=False, fit_intercept=True,\n",
              "                   intercept_scaling=1, l1_ratio=None, max_iter=100,\n",
              "                   multi_class='auto', n_jobs=None, penalty='l2',\n",
              "                   random_state=None, solver='lbfgs', tol=0.0001, verbose=0,\n",
              "                   warm_start=False)"
            ]
          },
          "metadata": {
            "tags": []
          },
          "execution_count": 47
        }
      ]
    },
    {
      "cell_type": "code",
      "metadata": {
        "colab": {
          "base_uri": "https://localhost:8080/",
          "height": 320
        },
        "id": "YMj32hRmkMon",
        "outputId": "90b05cb4-4fed-4a9b-fc3a-3b8e568ad465"
      },
      "source": [
        "Y_pred_l = log_reg.predict(X_test_scaled_l)\n",
        "\n",
        "cm4 = confusion_matrix(Y_test_l,Y_pred_l)\n",
        "\n",
        "conf_matrix4 = pd.DataFrame(data=cm4,columns=['Predicted:0','Predicted:1'],index=['Actual:0','Actual:1'])\n",
        "plt.figure(figsize = (8,5))\n",
        "sns.heatmap(conf_matrix4, annot=True,fmt='d',cmap=\"YlGnBu\");\n",
        "\n",
        "TN4 = cm4[0,0]\n",
        "TP4 = cm4[1,1]\n",
        "FN4 = cm4[1,0]\n",
        "FP4 = cm4[0,1]\n",
        "\n",
        "sensitivity4 = TP4/float(TP4+FN4)\n",
        "specificity4 = TN4/float(TN4+FP4)"
      ],
      "execution_count": 50,
      "outputs": [
        {
          "output_type": "display_data",
          "data": {
            "image/png": "[encoded data removed]",
            "text/plain": [
              "<Figure size 576x360 with 2 Axes>"
            ]
          },
          "metadata": {
            "tags": [],
            "needs_background": "light"
          }
        }
      ]
    },
    {
      "cell_type": "code",
      "metadata": {
        "colab": {
          "base_uri": "https://localhost:8080/"
        },
        "id": "T0HhMBNekx4T",
        "outputId": "de0d0cea-5593-4077-bb50-a9fba105467d"
      },
      "source": [
        "print(f'Sensitivity = {round(sensitivity4,3)}')\n",
        "print(f'Specificity = {round(specificity4,3)}')\n",
        "print('Positive Likelihood Ratio = Sensitivity/(1-Specificity) = ',sensitivity4/(1-specificity4))\n",
        "print('Negative likelihood Ratio = (1-Sensitivity)/Specificity = ',(1-sensitivity4)/specificity4)"
      ],
      "execution_count": 51,
      "outputs": [
        {
          "output_type": "stream",
          "text": [
            "Sensitivity = 0.625\n",
            "Specificity = 1.0\n",
            "Positive Likelihood Ratio = Sensitivity/(1-Specificity) =  4443.072916666211\n",
            "Negative likelihood Ratio = (1-Sensitivity)/Specificity =  0.37505275807491645\n"
          ],
          "name": "stdout"
        }
      ]
    },
    {
      "cell_type": "markdown",
      "metadata": {
        "id": "aQO28jwblHuP"
      },
      "source": [
        "# Comparing Results\n",
        "\n",
        "We will now see the results of the 4 different models, to see wich one performed better."
      ]
    },
    {
      "cell_type": "code",
      "metadata": {
        "id": "0cjQIMo5lRgz"
      },
      "source": [
        "from prettytable import PrettyTable\n",
        "\n",
        "summary = PrettyTable(['Model','Accuracy * 100','Specificity','Sensitivity','PLR','NLR'])\n",
        "summary.add_row(['Decision Tree', round(accuracy_score(test_Y, y_pred_entropy)*100,4), round(specificity,4), round(sensitivity,4), round(sensitivity/(1-specificity),4), round((1-sensitivity)/specificity,4)])\n",
        "summary.add_row(['Random Forest', round(accuracy_score(Y_test,Y_pred)*100,4), round(specificity2,4), round(sensitivity2,4), round(sensitivity2/(1-specificity2),4), round((1-sensitivity2)/specificity2,4)])\n",
        "summary.add_row(['Random Forest 2', round(accuracy_score(y_test_n,Y_pred_n)*100,4), round(specificity3,4), round(sensitivity3,4), round(sensitivity3/(1-specificity3),4), round((1-sensitivity3)/specificity3,4)])\n",
        "summary.add_row(['Logistic Regression', round(accuracy_score(Y_test_l,Y_pred_l)*100,4), round(specificity4,4), round(sensitivity4,4), round(sensitivity4/(1-specificity4),4), round((1-sensitivity4)/specificity4,4)])"
      ],
      "execution_count": 61,
      "outputs": []
    },
    {
      "cell_type": "code",
      "metadata": {
        "colab": {
          "base_uri": "https://localhost:8080/"
        },
        "id": "vAFkTZzVoKAy",
        "outputId": "9495bf19-e545-42bf-a950-b7e87948c407"
      },
      "source": [
        "print(summary)"
      ],
      "execution_count": 62,
      "outputs": [
        {
          "output_type": "stream",
          "text": [
            "+---------------------+----------------+-------------+-------------+------------+--------+\n",
            "|        Model        | Accuracy * 100 | Specificity | Sensitivity |    PLR     |  NLR   |\n",
            "+---------------------+----------------+-------------+-------------+------------+--------+\n",
            "|    Decision Tree    |    99.9356     |    0.9996   |    0.8529   | 2078.9101  | 0.1471 |\n",
            "|    Random Forest    |    99.9602     |    0.9999   |    0.8015   | 9767.2931  | 0.1985 |\n",
            "|   Random Forest 2   |    99.9555     |    0.9999   |    0.777    | 13255.3041 | 0.223  |\n",
            "| Logistic Regression |    99.9263     |    0.9999   |    0.625    | 4443.0729  | 0.3751 |\n",
            "+---------------------+----------------+-------------+-------------+------------+--------+\n"
          ],
          "name": "stdout"
        }
      ]
    },
    {
      "cell_type": "markdown",
      "metadata": {
        "id": "1OrRtnvEqRDo"
      },
      "source": [
        "Out of all the tests, it seems that by using a Decision Tree we get the best results. We are not as specific as the other 3 models, but we have a sensitivity rate of **85,29%** \n",
        "\n",
        "Since we are more interested in finding fraud cases, this last metric is the most important one, because it means that we are detecting 85,29% of the actual fraudulent cases, when the second best model (the original Random Forest) only classifies correctly 80,15% of the fraudulent cases."
      ]
    },
    {
      "cell_type": "code",
      "metadata": {
        "id": "PxqQ-oiyrWg-"
      },
      "source": [
        "eval_metrics_graph = pd.DataFrame({\n",
        "                        'model': ['Decision Tree', 'Random Forest', 'Random Forest 2', 'Logistic Regression'],\n",
        "                        'Sensitivity': [round(sensitivity,4), round(sensitivity2,4), round(sensitivity3,4), round(sensitivity4,4)]\n",
        "                     })\n",
        "eval_metrics_graph = eval_metrics_graph.sort_values('Sensitivity', ascending=False)"
      ],
      "execution_count": 63,
      "outputs": []
    },
    {
      "cell_type": "code",
      "metadata": {
        "colab": {
          "base_uri": "https://localhost:8080/",
          "height": 393
        },
        "id": "ZokeQwMosMpB",
        "outputId": "4577e426-e0c6-4b72-edb2-195ca1d5a95e"
      },
      "source": [
        "sns.barplot(x=eval_metrics_graph.model, y=eval_metrics_graph.Sensitivity)\n",
        "\n",
        "plt.xlabel(\"ML Model\")\n",
        "plt.figure(figsize=(10,5), dpi=100)\n",
        "plt.ylabel(\"Sensitivity\")\n",
        "plt.title(\"Sensitivity comparison\")\n",
        "plt.xticks(rotation=45, horizontalalignment=\"right\", fontweight=\"light\", fontsize=\"x-large\")\n",
        "plt.show()"
      ],
      "execution_count": 65,
      "outputs": [
        {
          "output_type": "display_data",
          "data": {
            "image/png": "[encoded data removed]",
            "text/plain": [
              "<Figure size 432x288 with 1 Axes>"
            ]
          },
          "metadata": {
            "tags": [],
            "needs_background": "light"
          }
        }
      ]
    }
  ]
}