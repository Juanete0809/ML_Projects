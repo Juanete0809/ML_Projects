{
  "nbformat": 4,
  "nbformat_minor": 0,
  "metadata": {
    "colab": {
      "name": "1 - Car Price Prediction.ipynb",
      "provenance": [],
      "collapsed_sections": [],
      "authorship_tag": "ABX9TyOFzwjQhe4bp+sckfeG/y0G",
      "include_colab_link": true
    },
    "kernelspec": {
      "name": "python3",
      "display_name": "Python 3"
    },
    "language_info": {
      "name": "python"
    }
  },
  "cells": [
    {
      "cell_type": "markdown",
      "metadata": {
        "id": "view-in-github",
        "colab_type": "text"
      },
      "source": [
        "<a href=\"https://colab.research.google.com/github/Juanete0809/ML_Projects/blob/main/1_Car_Price_Prediction.ipynb\" target=\"_parent\"><img src=\"https://colab.research.google.com/assets/colab-badge.svg\" alt=\"Open In Colab\"/></a>"
      ]
    },
    {
      "cell_type": "markdown",
      "metadata": {
        "id": "uvuQUUMwP6Gk"
      },
      "source": [
        "# Car Price Prediction\n",
        "\n",
        "This will be my first machine learning proyect, so it won´t be perfect, but I hope I will learn and implement a lot of the things and methods that I have learned in the previous courses I took."
      ]
    },
    {
      "cell_type": "markdown",
      "metadata": {
        "id": "EGk2HX5mQWca"
      },
      "source": [
        "## Project Description\n",
        "\n",
        "I will be predicting the prices of used cars. We will be building various Machine Learning models and Deep Learning models with different architectures. In the end, we will see how machine learning models perform in comparison to deep learning models.\n",
        "\n",
        "The data is from a hiring competition that was live on machinehack.com You can download the file from the link below:\n",
        "\n",
        "[MATHCO.THON: The Data Scientist Hiring Hackathon by TheMathCompany (machinehack.com)](https://machinehack.com/hackathons/data_hack_mathcothon_car_price_prediction_challenge/data)\n",
        "\n",
        "I also follow the steps described in [this post](https://www.analyticsvidhya.com/blog/2021/07/car-price-prediction-machine-learning-vs-deep-learning/) from Analytics Vidya, but making some changes to practice more things."
      ]
    },
    {
      "cell_type": "markdown",
      "metadata": {
        "id": "QylUfwkORsKO"
      },
      "source": [
        "### Step 1: Load File into Colab\n",
        "\n",
        "I have my files in Google Drive, so I have to upload them from there"
      ]
    },
    {
      "cell_type": "code",
      "metadata": {
        "colab": {
          "base_uri": "https://localhost:8080/"
        },
        "id": "zsSUmEOLSEsw",
        "outputId": "f06397c2-c964-4ab5-f66c-ebaef7d0850e"
      },
      "source": [
        "from google.colab import drive \n",
        "drive.mount('/content/gdrive')"
      ],
      "execution_count": 210,
      "outputs": [
        {
          "output_type": "stream",
          "text": [
            "Drive already mounted at /content/gdrive; to attempt to forcibly remount, call drive.mount(\"/content/gdrive\", force_remount=True).\n"
          ],
          "name": "stdout"
        }
      ]
    },
    {
      "cell_type": "code",
      "metadata": {
        "colab": {
          "base_uri": "https://localhost:8080/",
          "height": 343
        },
        "id": "vRypqvbLTT9x",
        "outputId": "26a8cc2c-2e8d-4ab2-a8d2-56c2132808ef"
      },
      "source": [
        "import pandas as pd \n",
        "import numpy as np\n",
        "\n",
        "df = pd.read_csv('/content/gdrive/MyDrive/Machine Learning Projects/1 - Car Price Prediction/train.csv')\n",
        "\n",
        "df.head()"
      ],
      "execution_count": 211,
      "outputs": [
        {
          "output_type": "execute_result",
          "data": {
            "text/html": [
              "<div>\n",
              "<style scoped>\n",
              "    .dataframe tbody tr th:only-of-type {\n",
              "        vertical-align: middle;\n",
              "    }\n",
              "\n",
              "    .dataframe tbody tr th {\n",
              "        vertical-align: top;\n",
              "    }\n",
              "\n",
              "    .dataframe thead th {\n",
              "        text-align: right;\n",
              "    }\n",
              "</style>\n",
              "<table border=\"1\" class=\"dataframe\">\n",
              "  <thead>\n",
              "    <tr style=\"text-align: right;\">\n",
              "      <th></th>\n",
              "      <th>ID</th>\n",
              "      <th>Price</th>\n",
              "      <th>Levy</th>\n",
              "      <th>Manufacturer</th>\n",
              "      <th>Model</th>\n",
              "      <th>Prod. year</th>\n",
              "      <th>Category</th>\n",
              "      <th>Leather interior</th>\n",
              "      <th>Fuel type</th>\n",
              "      <th>Engine volume</th>\n",
              "      <th>Mileage</th>\n",
              "      <th>Cylinders</th>\n",
              "      <th>Gear box type</th>\n",
              "      <th>Drive wheels</th>\n",
              "      <th>Doors</th>\n",
              "      <th>Wheel</th>\n",
              "      <th>Color</th>\n",
              "      <th>Airbags</th>\n",
              "    </tr>\n",
              "  </thead>\n",
              "  <tbody>\n",
              "    <tr>\n",
              "      <th>0</th>\n",
              "      <td>45654403</td>\n",
              "      <td>13328</td>\n",
              "      <td>1399</td>\n",
              "      <td>LEXUS</td>\n",
              "      <td>RX 450</td>\n",
              "      <td>2010</td>\n",
              "      <td>Jeep</td>\n",
              "      <td>Yes</td>\n",
              "      <td>Hybrid</td>\n",
              "      <td>3.5</td>\n",
              "      <td>186005 km</td>\n",
              "      <td>6.0</td>\n",
              "      <td>Automatic</td>\n",
              "      <td>4x4</td>\n",
              "      <td>04-May</td>\n",
              "      <td>Left wheel</td>\n",
              "      <td>Silver</td>\n",
              "      <td>12</td>\n",
              "    </tr>\n",
              "    <tr>\n",
              "      <th>1</th>\n",
              "      <td>44731507</td>\n",
              "      <td>16621</td>\n",
              "      <td>1018</td>\n",
              "      <td>CHEVROLET</td>\n",
              "      <td>Equinox</td>\n",
              "      <td>2011</td>\n",
              "      <td>Jeep</td>\n",
              "      <td>No</td>\n",
              "      <td>Petrol</td>\n",
              "      <td>3</td>\n",
              "      <td>192000 km</td>\n",
              "      <td>6.0</td>\n",
              "      <td>Tiptronic</td>\n",
              "      <td>4x4</td>\n",
              "      <td>04-May</td>\n",
              "      <td>Left wheel</td>\n",
              "      <td>Black</td>\n",
              "      <td>8</td>\n",
              "    </tr>\n",
              "    <tr>\n",
              "      <th>2</th>\n",
              "      <td>45774419</td>\n",
              "      <td>8467</td>\n",
              "      <td>-</td>\n",
              "      <td>HONDA</td>\n",
              "      <td>FIT</td>\n",
              "      <td>2006</td>\n",
              "      <td>Hatchback</td>\n",
              "      <td>No</td>\n",
              "      <td>Petrol</td>\n",
              "      <td>1.3</td>\n",
              "      <td>200000 km</td>\n",
              "      <td>4.0</td>\n",
              "      <td>Variator</td>\n",
              "      <td>Front</td>\n",
              "      <td>04-May</td>\n",
              "      <td>Right-hand drive</td>\n",
              "      <td>Black</td>\n",
              "      <td>2</td>\n",
              "    </tr>\n",
              "    <tr>\n",
              "      <th>3</th>\n",
              "      <td>45769185</td>\n",
              "      <td>3607</td>\n",
              "      <td>862</td>\n",
              "      <td>FORD</td>\n",
              "      <td>Escape</td>\n",
              "      <td>2011</td>\n",
              "      <td>Jeep</td>\n",
              "      <td>Yes</td>\n",
              "      <td>Hybrid</td>\n",
              "      <td>2.5</td>\n",
              "      <td>168966 km</td>\n",
              "      <td>4.0</td>\n",
              "      <td>Automatic</td>\n",
              "      <td>4x4</td>\n",
              "      <td>04-May</td>\n",
              "      <td>Left wheel</td>\n",
              "      <td>White</td>\n",
              "      <td>0</td>\n",
              "    </tr>\n",
              "    <tr>\n",
              "      <th>4</th>\n",
              "      <td>45809263</td>\n",
              "      <td>11726</td>\n",
              "      <td>446</td>\n",
              "      <td>HONDA</td>\n",
              "      <td>FIT</td>\n",
              "      <td>2014</td>\n",
              "      <td>Hatchback</td>\n",
              "      <td>Yes</td>\n",
              "      <td>Petrol</td>\n",
              "      <td>1.3</td>\n",
              "      <td>91901 km</td>\n",
              "      <td>4.0</td>\n",
              "      <td>Automatic</td>\n",
              "      <td>Front</td>\n",
              "      <td>04-May</td>\n",
              "      <td>Left wheel</td>\n",
              "      <td>Silver</td>\n",
              "      <td>4</td>\n",
              "    </tr>\n",
              "  </tbody>\n",
              "</table>\n",
              "</div>"
            ],
            "text/plain": [
              "         ID  Price  Levy  ...             Wheel   Color  Airbags\n",
              "0  45654403  13328  1399  ...        Left wheel  Silver       12\n",
              "1  44731507  16621  1018  ...        Left wheel   Black        8\n",
              "2  45774419   8467     -  ...  Right-hand drive   Black        2\n",
              "3  45769185   3607   862  ...        Left wheel   White        0\n",
              "4  45809263  11726   446  ...        Left wheel  Silver        4\n",
              "\n",
              "[5 rows x 18 columns]"
            ]
          },
          "metadata": {
            "tags": []
          },
          "execution_count": 211
        }
      ]
    },
    {
      "cell_type": "markdown",
      "metadata": {
        "id": "eOd9bS85b70m"
      },
      "source": [
        "### Step 2: Data Inspection"
      ]
    },
    {
      "cell_type": "code",
      "metadata": {
        "colab": {
          "base_uri": "https://localhost:8080/",
          "height": 221
        },
        "id": "MGWxUQYVcTAK",
        "outputId": "abbb6d3b-6561-4ed6-b0d0-b2df79d6e158"
      },
      "source": [
        "row, col = df.shape\n",
        "\n",
        "print('The doc has ', row, ' rows and ', col, 'columns.')\n",
        "\n",
        "df.describe().transpose() # transpose() converts rows into columns and viceversa"
      ],
      "execution_count": 212,
      "outputs": [
        {
          "output_type": "stream",
          "text": [
            "The doc has  19237  rows and  18 columns.\n"
          ],
          "name": "stdout"
        },
        {
          "output_type": "execute_result",
          "data": {
            "text/html": [
              "<div>\n",
              "<style scoped>\n",
              "    .dataframe tbody tr th:only-of-type {\n",
              "        vertical-align: middle;\n",
              "    }\n",
              "\n",
              "    .dataframe tbody tr th {\n",
              "        vertical-align: top;\n",
              "    }\n",
              "\n",
              "    .dataframe thead th {\n",
              "        text-align: right;\n",
              "    }\n",
              "</style>\n",
              "<table border=\"1\" class=\"dataframe\">\n",
              "  <thead>\n",
              "    <tr style=\"text-align: right;\">\n",
              "      <th></th>\n",
              "      <th>count</th>\n",
              "      <th>mean</th>\n",
              "      <th>std</th>\n",
              "      <th>min</th>\n",
              "      <th>25%</th>\n",
              "      <th>50%</th>\n",
              "      <th>75%</th>\n",
              "      <th>max</th>\n",
              "    </tr>\n",
              "  </thead>\n",
              "  <tbody>\n",
              "    <tr>\n",
              "      <th>ID</th>\n",
              "      <td>19237.0</td>\n",
              "      <td>4.557654e+07</td>\n",
              "      <td>936591.422799</td>\n",
              "      <td>20746880.0</td>\n",
              "      <td>45698374.0</td>\n",
              "      <td>45772308.0</td>\n",
              "      <td>45802036.0</td>\n",
              "      <td>45816654.0</td>\n",
              "    </tr>\n",
              "    <tr>\n",
              "      <th>Price</th>\n",
              "      <td>19237.0</td>\n",
              "      <td>1.855593e+04</td>\n",
              "      <td>190581.269684</td>\n",
              "      <td>1.0</td>\n",
              "      <td>5331.0</td>\n",
              "      <td>13172.0</td>\n",
              "      <td>22075.0</td>\n",
              "      <td>26307500.0</td>\n",
              "    </tr>\n",
              "    <tr>\n",
              "      <th>Prod. year</th>\n",
              "      <td>19237.0</td>\n",
              "      <td>2.010913e+03</td>\n",
              "      <td>5.668673</td>\n",
              "      <td>1939.0</td>\n",
              "      <td>2009.0</td>\n",
              "      <td>2012.0</td>\n",
              "      <td>2015.0</td>\n",
              "      <td>2020.0</td>\n",
              "    </tr>\n",
              "    <tr>\n",
              "      <th>Cylinders</th>\n",
              "      <td>19237.0</td>\n",
              "      <td>4.582991e+00</td>\n",
              "      <td>1.199933</td>\n",
              "      <td>1.0</td>\n",
              "      <td>4.0</td>\n",
              "      <td>4.0</td>\n",
              "      <td>4.0</td>\n",
              "      <td>16.0</td>\n",
              "    </tr>\n",
              "    <tr>\n",
              "      <th>Airbags</th>\n",
              "      <td>19237.0</td>\n",
              "      <td>6.582627e+00</td>\n",
              "      <td>4.320168</td>\n",
              "      <td>0.0</td>\n",
              "      <td>4.0</td>\n",
              "      <td>6.0</td>\n",
              "      <td>12.0</td>\n",
              "      <td>16.0</td>\n",
              "    </tr>\n",
              "  </tbody>\n",
              "</table>\n",
              "</div>"
            ],
            "text/plain": [
              "              count          mean  ...         75%         max\n",
              "ID          19237.0  4.557654e+07  ...  45802036.0  45816654.0\n",
              "Price       19237.0  1.855593e+04  ...     22075.0  26307500.0\n",
              "Prod. year  19237.0  2.010913e+03  ...      2015.0      2020.0\n",
              "Cylinders   19237.0  4.582991e+00  ...         4.0        16.0\n",
              "Airbags     19237.0  6.582627e+00  ...        12.0        16.0\n",
              "\n",
              "[5 rows x 8 columns]"
            ]
          },
          "metadata": {
            "tags": []
          },
          "execution_count": 212
        }
      ]
    },
    {
      "cell_type": "code",
      "metadata": {
        "colab": {
          "base_uri": "https://localhost:8080/"
        },
        "id": "mWFybcMkerdk",
        "outputId": "0fdd9634-fc2c-4c22-b0b6-b6d3004d9ea3"
      },
      "source": [
        "df.info()"
      ],
      "execution_count": 213,
      "outputs": [
        {
          "output_type": "stream",
          "text": [
            "<class 'pandas.core.frame.DataFrame'>\n",
            "RangeIndex: 19237 entries, 0 to 19236\n",
            "Data columns (total 18 columns):\n",
            " #   Column            Non-Null Count  Dtype  \n",
            "---  ------            --------------  -----  \n",
            " 0   ID                19237 non-null  int64  \n",
            " 1   Price             19237 non-null  int64  \n",
            " 2   Levy              19237 non-null  object \n",
            " 3   Manufacturer      19237 non-null  object \n",
            " 4   Model             19237 non-null  object \n",
            " 5   Prod. year        19237 non-null  int64  \n",
            " 6   Category          19237 non-null  object \n",
            " 7   Leather interior  19237 non-null  object \n",
            " 8   Fuel type         19237 non-null  object \n",
            " 9   Engine volume     19237 non-null  object \n",
            " 10  Mileage           19237 non-null  object \n",
            " 11  Cylinders         19237 non-null  float64\n",
            " 12  Gear box type     19237 non-null  object \n",
            " 13  Drive wheels      19237 non-null  object \n",
            " 14  Doors             19237 non-null  object \n",
            " 15  Wheel             19237 non-null  object \n",
            " 16  Color             19237 non-null  object \n",
            " 17  Airbags           19237 non-null  int64  \n",
            "dtypes: float64(1), int64(4), object(13)\n",
            "memory usage: 2.6+ MB\n"
          ],
          "name": "stdout"
        }
      ]
    },
    {
      "cell_type": "markdown",
      "metadata": {
        "id": "1VrYm6SYfb2L"
      },
      "source": [
        "We can see fron df.info() that ID is a number. We will discard that feature later.\n",
        "\n",
        "Now we see the distribution of the data:"
      ]
    },
    {
      "cell_type": "code",
      "metadata": {
        "colab": {
          "base_uri": "https://localhost:8080/",
          "height": 567
        },
        "id": "I_NdJdSjfe_L",
        "outputId": "ac355343-d194-4f0d-bd43-3d32f42901b9"
      },
      "source": [
        "import seaborn as sns\n",
        "\n",
        "sns.pairplot(df, diag_kind='kde', height = 1.5)"
      ],
      "execution_count": 214,
      "outputs": [
        {
          "output_type": "execute_result",
          "data": {
            "text/plain": [
              "<seaborn.axisgrid.PairGrid at 0x7fe822bdedd0>"
            ]
          },
          "metadata": {
            "tags": []
          },
          "execution_count": 214
        },
        {
          "output_type": "display_data",
          "data": {
            "image/png": "[encoded data removed]",
            "text/plain": [
              "<Figure size 540x540 with 30 Axes>"
            ]
          },
          "metadata": {
            "tags": [],
            "needs_background": "light"
          }
        }
      ]
    },
    {
      "cell_type": "markdown",
      "metadata": {
        "id": "1Xcm9n90gILg"
      },
      "source": [
        "### Step 3: Data Preparation\n",
        "\n",
        "I'll drop the \"ID\" columns, since it doesn´t hold any significance in the prediction."
      ]
    },
    {
      "cell_type": "code",
      "metadata": {
        "id": "WhoTdq_tgfPX"
      },
      "source": [
        "df.drop('ID', axis = 1, inplace = True)"
      ],
      "execution_count": 215,
      "outputs": []
    },
    {
      "cell_type": "markdown",
      "metadata": {
        "id": "_15dCw8ljkFM"
      },
      "source": [
        "If we see the column \"Levy\" actually has missing values, but they put \"-\" instead of a null value.\n",
        "\n",
        "- First, we will erase those \" - \" and put null values.\n",
        "- Then, we have to convert \"Levy\" into a float type\n",
        "- Last, we replace the missing values with the mean"
      ]
    },
    {
      "cell_type": "code",
      "metadata": {
        "id": "nUbJMuRGjgWO"
      },
      "source": [
        "df['Levy'] = df['Levy'].replace('-',np.nan)\n",
        "df['Levy'] = df['Levy'].astype(float)"
      ],
      "execution_count": 216,
      "outputs": []
    },
    {
      "cell_type": "markdown",
      "metadata": {
        "id": "5uXIN10UlWTN"
      },
      "source": [
        "Here I'll create a copy so I don´t have to make all the previous steps if I messed something up..."
      ]
    },
    {
      "cell_type": "code",
      "metadata": {
        "id": "E09b9uu9lV33",
        "colab": {
          "base_uri": "https://localhost:8080/",
          "height": 343
        },
        "outputId": "c41489e8-df84-4bf8-e168-30c7b1815aaf"
      },
      "source": [
        "df_1 = df.copy()\n",
        "df_1.head()"
      ],
      "execution_count": 217,
      "outputs": [
        {
          "output_type": "execute_result",
          "data": {
            "text/html": [
              "<div>\n",
              "<style scoped>\n",
              "    .dataframe tbody tr th:only-of-type {\n",
              "        vertical-align: middle;\n",
              "    }\n",
              "\n",
              "    .dataframe tbody tr th {\n",
              "        vertical-align: top;\n",
              "    }\n",
              "\n",
              "    .dataframe thead th {\n",
              "        text-align: right;\n",
              "    }\n",
              "</style>\n",
              "<table border=\"1\" class=\"dataframe\">\n",
              "  <thead>\n",
              "    <tr style=\"text-align: right;\">\n",
              "      <th></th>\n",
              "      <th>Price</th>\n",
              "      <th>Levy</th>\n",
              "      <th>Manufacturer</th>\n",
              "      <th>Model</th>\n",
              "      <th>Prod. year</th>\n",
              "      <th>Category</th>\n",
              "      <th>Leather interior</th>\n",
              "      <th>Fuel type</th>\n",
              "      <th>Engine volume</th>\n",
              "      <th>Mileage</th>\n",
              "      <th>Cylinders</th>\n",
              "      <th>Gear box type</th>\n",
              "      <th>Drive wheels</th>\n",
              "      <th>Doors</th>\n",
              "      <th>Wheel</th>\n",
              "      <th>Color</th>\n",
              "      <th>Airbags</th>\n",
              "    </tr>\n",
              "  </thead>\n",
              "  <tbody>\n",
              "    <tr>\n",
              "      <th>0</th>\n",
              "      <td>13328</td>\n",
              "      <td>1399.0</td>\n",
              "      <td>LEXUS</td>\n",
              "      <td>RX 450</td>\n",
              "      <td>2010</td>\n",
              "      <td>Jeep</td>\n",
              "      <td>Yes</td>\n",
              "      <td>Hybrid</td>\n",
              "      <td>3.5</td>\n",
              "      <td>186005 km</td>\n",
              "      <td>6.0</td>\n",
              "      <td>Automatic</td>\n",
              "      <td>4x4</td>\n",
              "      <td>04-May</td>\n",
              "      <td>Left wheel</td>\n",
              "      <td>Silver</td>\n",
              "      <td>12</td>\n",
              "    </tr>\n",
              "    <tr>\n",
              "      <th>1</th>\n",
              "      <td>16621</td>\n",
              "      <td>1018.0</td>\n",
              "      <td>CHEVROLET</td>\n",
              "      <td>Equinox</td>\n",
              "      <td>2011</td>\n",
              "      <td>Jeep</td>\n",
              "      <td>No</td>\n",
              "      <td>Petrol</td>\n",
              "      <td>3</td>\n",
              "      <td>192000 km</td>\n",
              "      <td>6.0</td>\n",
              "      <td>Tiptronic</td>\n",
              "      <td>4x4</td>\n",
              "      <td>04-May</td>\n",
              "      <td>Left wheel</td>\n",
              "      <td>Black</td>\n",
              "      <td>8</td>\n",
              "    </tr>\n",
              "    <tr>\n",
              "      <th>2</th>\n",
              "      <td>8467</td>\n",
              "      <td>NaN</td>\n",
              "      <td>HONDA</td>\n",
              "      <td>FIT</td>\n",
              "      <td>2006</td>\n",
              "      <td>Hatchback</td>\n",
              "      <td>No</td>\n",
              "      <td>Petrol</td>\n",
              "      <td>1.3</td>\n",
              "      <td>200000 km</td>\n",
              "      <td>4.0</td>\n",
              "      <td>Variator</td>\n",
              "      <td>Front</td>\n",
              "      <td>04-May</td>\n",
              "      <td>Right-hand drive</td>\n",
              "      <td>Black</td>\n",
              "      <td>2</td>\n",
              "    </tr>\n",
              "    <tr>\n",
              "      <th>3</th>\n",
              "      <td>3607</td>\n",
              "      <td>862.0</td>\n",
              "      <td>FORD</td>\n",
              "      <td>Escape</td>\n",
              "      <td>2011</td>\n",
              "      <td>Jeep</td>\n",
              "      <td>Yes</td>\n",
              "      <td>Hybrid</td>\n",
              "      <td>2.5</td>\n",
              "      <td>168966 km</td>\n",
              "      <td>4.0</td>\n",
              "      <td>Automatic</td>\n",
              "      <td>4x4</td>\n",
              "      <td>04-May</td>\n",
              "      <td>Left wheel</td>\n",
              "      <td>White</td>\n",
              "      <td>0</td>\n",
              "    </tr>\n",
              "    <tr>\n",
              "      <th>4</th>\n",
              "      <td>11726</td>\n",
              "      <td>446.0</td>\n",
              "      <td>HONDA</td>\n",
              "      <td>FIT</td>\n",
              "      <td>2014</td>\n",
              "      <td>Hatchback</td>\n",
              "      <td>Yes</td>\n",
              "      <td>Petrol</td>\n",
              "      <td>1.3</td>\n",
              "      <td>91901 km</td>\n",
              "      <td>4.0</td>\n",
              "      <td>Automatic</td>\n",
              "      <td>Front</td>\n",
              "      <td>04-May</td>\n",
              "      <td>Left wheel</td>\n",
              "      <td>Silver</td>\n",
              "      <td>4</td>\n",
              "    </tr>\n",
              "  </tbody>\n",
              "</table>\n",
              "</div>"
            ],
            "text/plain": [
              "   Price    Levy Manufacturer  ...             Wheel   Color Airbags\n",
              "0  13328  1399.0        LEXUS  ...        Left wheel  Silver      12\n",
              "1  16621  1018.0    CHEVROLET  ...        Left wheel   Black       8\n",
              "2   8467     NaN        HONDA  ...  Right-hand drive   Black       2\n",
              "3   3607   862.0         FORD  ...        Left wheel   White       0\n",
              "4  11726   446.0        HONDA  ...        Left wheel  Silver       4\n",
              "\n",
              "[5 rows x 17 columns]"
            ]
          },
          "metadata": {
            "tags": []
          },
          "execution_count": 217
        }
      ]
    },
    {
      "cell_type": "code",
      "metadata": {
        "colab": {
          "base_uri": "https://localhost:8080/"
        },
        "id": "cC2UNAMilpfl",
        "outputId": "ffedac7c-df4f-4ec9-9162-a989e79bd7f9"
      },
      "source": [
        "levy_column = df_1.loc[:,'Levy']\n",
        "levy_column"
      ],
      "execution_count": 218,
      "outputs": [
        {
          "output_type": "execute_result",
          "data": {
            "text/plain": [
              "0        1399.0\n",
              "1        1018.0\n",
              "2           NaN\n",
              "3         862.0\n",
              "4         446.0\n",
              "          ...  \n",
              "19232       NaN\n",
              "19233     831.0\n",
              "19234     836.0\n",
              "19235    1288.0\n",
              "19236     753.0\n",
              "Name: Levy, Length: 19237, dtype: float64"
            ]
          },
          "metadata": {
            "tags": []
          },
          "execution_count": 218
        }
      ]
    },
    {
      "cell_type": "code",
      "metadata": {
        "colab": {
          "base_uri": "https://localhost:8080/"
        },
        "id": "wcmZj9XdmAIP",
        "outputId": "39282c3d-38df-4386-efd0-8f3b11321a30"
      },
      "source": [
        "levy_array = levy_column.values # I need to convert it into an array in order to use Numpy mean function\n",
        "\n",
        "levy_mean = np.nanmean(levy_array)\n",
        "\n",
        "levy_mean"
      ],
      "execution_count": 219,
      "outputs": [
        {
          "output_type": "execute_result",
          "data": {
            "text/plain": [
              "906.8381278879118"
            ]
          },
          "metadata": {
            "tags": []
          },
          "execution_count": 219
        }
      ]
    },
    {
      "cell_type": "code",
      "metadata": {
        "id": "CHsMeu-Xm_2P",
        "colab": {
          "base_uri": "https://localhost:8080/",
          "height": 343
        },
        "outputId": "7edbd438-a036-4c07-c83d-179d9f1b5e82"
      },
      "source": [
        "df_1['Levy'] = df_1['Levy'].replace(np.nan, levy_mean)\n",
        "\n",
        "df_1.head()"
      ],
      "execution_count": 220,
      "outputs": [
        {
          "output_type": "execute_result",
          "data": {
            "text/html": [
              "<div>\n",
              "<style scoped>\n",
              "    .dataframe tbody tr th:only-of-type {\n",
              "        vertical-align: middle;\n",
              "    }\n",
              "\n",
              "    .dataframe tbody tr th {\n",
              "        vertical-align: top;\n",
              "    }\n",
              "\n",
              "    .dataframe thead th {\n",
              "        text-align: right;\n",
              "    }\n",
              "</style>\n",
              "<table border=\"1\" class=\"dataframe\">\n",
              "  <thead>\n",
              "    <tr style=\"text-align: right;\">\n",
              "      <th></th>\n",
              "      <th>Price</th>\n",
              "      <th>Levy</th>\n",
              "      <th>Manufacturer</th>\n",
              "      <th>Model</th>\n",
              "      <th>Prod. year</th>\n",
              "      <th>Category</th>\n",
              "      <th>Leather interior</th>\n",
              "      <th>Fuel type</th>\n",
              "      <th>Engine volume</th>\n",
              "      <th>Mileage</th>\n",
              "      <th>Cylinders</th>\n",
              "      <th>Gear box type</th>\n",
              "      <th>Drive wheels</th>\n",
              "      <th>Doors</th>\n",
              "      <th>Wheel</th>\n",
              "      <th>Color</th>\n",
              "      <th>Airbags</th>\n",
              "    </tr>\n",
              "  </thead>\n",
              "  <tbody>\n",
              "    <tr>\n",
              "      <th>0</th>\n",
              "      <td>13328</td>\n",
              "      <td>1399.000000</td>\n",
              "      <td>LEXUS</td>\n",
              "      <td>RX 450</td>\n",
              "      <td>2010</td>\n",
              "      <td>Jeep</td>\n",
              "      <td>Yes</td>\n",
              "      <td>Hybrid</td>\n",
              "      <td>3.5</td>\n",
              "      <td>186005 km</td>\n",
              "      <td>6.0</td>\n",
              "      <td>Automatic</td>\n",
              "      <td>4x4</td>\n",
              "      <td>04-May</td>\n",
              "      <td>Left wheel</td>\n",
              "      <td>Silver</td>\n",
              "      <td>12</td>\n",
              "    </tr>\n",
              "    <tr>\n",
              "      <th>1</th>\n",
              "      <td>16621</td>\n",
              "      <td>1018.000000</td>\n",
              "      <td>CHEVROLET</td>\n",
              "      <td>Equinox</td>\n",
              "      <td>2011</td>\n",
              "      <td>Jeep</td>\n",
              "      <td>No</td>\n",
              "      <td>Petrol</td>\n",
              "      <td>3</td>\n",
              "      <td>192000 km</td>\n",
              "      <td>6.0</td>\n",
              "      <td>Tiptronic</td>\n",
              "      <td>4x4</td>\n",
              "      <td>04-May</td>\n",
              "      <td>Left wheel</td>\n",
              "      <td>Black</td>\n",
              "      <td>8</td>\n",
              "    </tr>\n",
              "    <tr>\n",
              "      <th>2</th>\n",
              "      <td>8467</td>\n",
              "      <td>906.838128</td>\n",
              "      <td>HONDA</td>\n",
              "      <td>FIT</td>\n",
              "      <td>2006</td>\n",
              "      <td>Hatchback</td>\n",
              "      <td>No</td>\n",
              "      <td>Petrol</td>\n",
              "      <td>1.3</td>\n",
              "      <td>200000 km</td>\n",
              "      <td>4.0</td>\n",
              "      <td>Variator</td>\n",
              "      <td>Front</td>\n",
              "      <td>04-May</td>\n",
              "      <td>Right-hand drive</td>\n",
              "      <td>Black</td>\n",
              "      <td>2</td>\n",
              "    </tr>\n",
              "    <tr>\n",
              "      <th>3</th>\n",
              "      <td>3607</td>\n",
              "      <td>862.000000</td>\n",
              "      <td>FORD</td>\n",
              "      <td>Escape</td>\n",
              "      <td>2011</td>\n",
              "      <td>Jeep</td>\n",
              "      <td>Yes</td>\n",
              "      <td>Hybrid</td>\n",
              "      <td>2.5</td>\n",
              "      <td>168966 km</td>\n",
              "      <td>4.0</td>\n",
              "      <td>Automatic</td>\n",
              "      <td>4x4</td>\n",
              "      <td>04-May</td>\n",
              "      <td>Left wheel</td>\n",
              "      <td>White</td>\n",
              "      <td>0</td>\n",
              "    </tr>\n",
              "    <tr>\n",
              "      <th>4</th>\n",
              "      <td>11726</td>\n",
              "      <td>446.000000</td>\n",
              "      <td>HONDA</td>\n",
              "      <td>FIT</td>\n",
              "      <td>2014</td>\n",
              "      <td>Hatchback</td>\n",
              "      <td>Yes</td>\n",
              "      <td>Petrol</td>\n",
              "      <td>1.3</td>\n",
              "      <td>91901 km</td>\n",
              "      <td>4.0</td>\n",
              "      <td>Automatic</td>\n",
              "      <td>Front</td>\n",
              "      <td>04-May</td>\n",
              "      <td>Left wheel</td>\n",
              "      <td>Silver</td>\n",
              "      <td>4</td>\n",
              "    </tr>\n",
              "  </tbody>\n",
              "</table>\n",
              "</div>"
            ],
            "text/plain": [
              "   Price         Levy Manufacturer  ...             Wheel   Color Airbags\n",
              "0  13328  1399.000000        LEXUS  ...        Left wheel  Silver      12\n",
              "1  16621  1018.000000    CHEVROLET  ...        Left wheel   Black       8\n",
              "2   8467   906.838128        HONDA  ...  Right-hand drive   Black       2\n",
              "3   3607   862.000000         FORD  ...        Left wheel   White       0\n",
              "4  11726   446.000000        HONDA  ...        Left wheel  Silver       4\n",
              "\n",
              "[5 rows x 17 columns]"
            ]
          },
          "metadata": {
            "tags": []
          },
          "execution_count": 220
        }
      ]
    },
    {
      "cell_type": "markdown",
      "metadata": {
        "id": "LIUYUHeR-HCL"
      },
      "source": [
        "Now I'll edit the \"Mileage\" column so I get only the kilometers, and transform it into a number"
      ]
    },
    {
      "cell_type": "code",
      "metadata": {
        "id": "2UBWBAeu-UZo"
      },
      "source": [
        "df_1['Mileage'] = df_1['Mileage'].apply(lambda x: x.split()[0]) # I get the first element of the string\n",
        "df_1['Mileage'] = pd.to_numeric(df_1['Mileage']) # Another way is using \"df_1['Mileage'].astype('int')\""
      ],
      "execution_count": 221,
      "outputs": []
    },
    {
      "cell_type": "markdown",
      "metadata": {
        "id": "ab8obtwDWqOY"
      },
      "source": [
        "In the \"Engine Volume\" column we have also the \"type\" (turbo or not turbo). We will create a new variable with that information, and then change the \"Engine Volume\" column to float."
      ]
    },
    {
      "cell_type": "code",
      "metadata": {
        "id": "G747EituW_ez"
      },
      "source": [
        "df_1['Turbo'] = df_1['Engine volume'].apply(lambda x: 1 if 'Turbo' in str(x) else 0)\n",
        "df_1['Engine volume'] = df_1['Engine volume'].apply(lambda x: x.split()[0]).astype('float')\n",
        "# Another way could be \"df_1['Engine volume'].apply(lambda x:str(x).replace('Turbo',''))\""
      ],
      "execution_count": 222,
      "outputs": []
    },
    {
      "cell_type": "markdown",
      "metadata": {
        "id": "Wogkos_XgPDM"
      },
      "source": [
        "We clean the column \"Doors\""
      ]
    },
    {
      "cell_type": "code",
      "metadata": {
        "id": "E0DtgUFYfPcw"
      },
      "source": [
        "df_1['Doors'].unique()\n",
        "df_1['Doors']=df_1['Doors'].map({'04-May':'4_5','02-Mar':'2_3','>5':'5'})\n",
        "\n",
        "df_1['Doors']=df_1['Doors'].astype(str)"
      ],
      "execution_count": 223,
      "outputs": []
    },
    {
      "cell_type": "markdown",
      "metadata": {
        "id": "eyZDijcBgwNJ"
      },
      "source": [
        "### Step 4: Handling Outliers\n",
        "\n",
        "Here we will see if there are outliers in the data. We are using boxplots and the Inter Quantile Range(IQR). \n",
        "\n",
        "Any observation lower than (25% percentile - 1.5 * IQR) or higher than (75% percentile - 1.5 * IQR) will be considered an outlier and discarted."
      ]
    },
    {
      "cell_type": "code",
      "metadata": {
        "colab": {
          "base_uri": "https://localhost:8080/",
          "height": 333
        },
        "id": "NozrLRScg9ar",
        "outputId": "fbe5197c-f61a-4b52-f80d-8db71671df85"
      },
      "source": [
        "cols=['Levy','Engine volume', 'Mileage','Cylinders','Airbags'] # We get only the columns with numerical values\n",
        "\n",
        "sns.boxplot(df_1[cols[0]]);"
      ],
      "execution_count": 224,
      "outputs": [
        {
          "output_type": "stream",
          "text": [
            "/usr/local/lib/python3.7/dist-packages/seaborn/_decorators.py:43: FutureWarning: Pass the following variable as a keyword arg: x. From version 0.12, the only valid positional argument will be `data`, and passing other arguments without an explicit keyword will result in an error or misinterpretation.\n",
            "  FutureWarning\n"
          ],
          "name": "stderr"
        },
        {
          "output_type": "display_data",
          "data": {
            "image/png": "[encoded data removed]",
            "text/plain": [
              "<Figure size 432x288 with 1 Axes>"
            ]
          },
          "metadata": {
            "tags": [],
            "needs_background": "light"
          }
        }
      ]
    },
    {
      "cell_type": "code",
      "metadata": {
        "colab": {
          "base_uri": "https://localhost:8080/",
          "height": 333
        },
        "id": "md10m-MUityV",
        "outputId": "b050f637-2e37-402f-b8d8-33972f41f60e"
      },
      "source": [
        "sns.boxplot(df_1[cols[1]]);"
      ],
      "execution_count": 225,
      "outputs": [
        {
          "output_type": "stream",
          "text": [
            "/usr/local/lib/python3.7/dist-packages/seaborn/_decorators.py:43: FutureWarning: Pass the following variable as a keyword arg: x. From version 0.12, the only valid positional argument will be `data`, and passing other arguments without an explicit keyword will result in an error or misinterpretation.\n",
            "  FutureWarning\n"
          ],
          "name": "stderr"
        },
        {
          "output_type": "display_data",
          "data": {
            "image/png": "[encoded data removed]",
            "text/plain": [
              "<Figure size 432x288 with 1 Axes>"
            ]
          },
          "metadata": {
            "tags": [],
            "needs_background": "light"
          }
        }
      ]
    },
    {
      "cell_type": "code",
      "metadata": {
        "colab": {
          "base_uri": "https://localhost:8080/",
          "height": 333
        },
        "id": "deIziGJ8y3QU",
        "outputId": "0818a25f-10b4-4772-d969-0b7fc8651bda"
      },
      "source": [
        "sns.boxplot(df_1[cols[2]]);"
      ],
      "execution_count": 226,
      "outputs": [
        {
          "output_type": "stream",
          "text": [
            "/usr/local/lib/python3.7/dist-packages/seaborn/_decorators.py:43: FutureWarning: Pass the following variable as a keyword arg: x. From version 0.12, the only valid positional argument will be `data`, and passing other arguments without an explicit keyword will result in an error or misinterpretation.\n",
            "  FutureWarning\n"
          ],
          "name": "stderr"
        },
        {
          "output_type": "display_data",
          "data": {
            "image/png": "[encoded data removed]",
            "text/plain": [
              "<Figure size 432x288 with 1 Axes>"
            ]
          },
          "metadata": {
            "tags": [],
            "needs_background": "light"
          }
        }
      ]
    },
    {
      "cell_type": "code",
      "metadata": {
        "colab": {
          "base_uri": "https://localhost:8080/",
          "height": 333
        },
        "id": "I65UIBxIy6AG",
        "outputId": "6c4c0929-c7ad-43ff-9874-487dfc13f16f"
      },
      "source": [
        "sns.boxplot(df_1[cols[3]]);"
      ],
      "execution_count": 227,
      "outputs": [
        {
          "output_type": "stream",
          "text": [
            "/usr/local/lib/python3.7/dist-packages/seaborn/_decorators.py:43: FutureWarning: Pass the following variable as a keyword arg: x. From version 0.12, the only valid positional argument will be `data`, and passing other arguments without an explicit keyword will result in an error or misinterpretation.\n",
            "  FutureWarning\n"
          ],
          "name": "stderr"
        },
        {
          "output_type": "display_data",
          "data": {
            "image/png": "[encoded data removed]",
            "text/plain": [
              "<Figure size 432x288 with 1 Axes>"
            ]
          },
          "metadata": {
            "tags": [],
            "needs_background": "light"
          }
        }
      ]
    },
    {
      "cell_type": "code",
      "metadata": {
        "colab": {
          "base_uri": "https://localhost:8080/",
          "height": 333
        },
        "id": "MXzx6hVvy8pG",
        "outputId": "9eb008d4-dafc-4a06-ad95-42cabf45b6e8"
      },
      "source": [
        "sns.boxplot(df_1[cols[4]]);"
      ],
      "execution_count": 228,
      "outputs": [
        {
          "output_type": "stream",
          "text": [
            "/usr/local/lib/python3.7/dist-packages/seaborn/_decorators.py:43: FutureWarning: Pass the following variable as a keyword arg: x. From version 0.12, the only valid positional argument will be `data`, and passing other arguments without an explicit keyword will result in an error or misinterpretation.\n",
            "  FutureWarning\n"
          ],
          "name": "stderr"
        },
        {
          "output_type": "display_data",
          "data": {
            "image/png": "[encoded data removed]",
            "text/plain": [
              "<Figure size 432x288 with 1 Axes>"
            ]
          },
          "metadata": {
            "tags": [],
            "needs_background": "light"
          }
        }
      ]
    },
    {
      "cell_type": "markdown",
      "metadata": {
        "id": "dM3bXATR-Kt9"
      },
      "source": [
        "All values except \"Aisbags\" have outliers. We proceed to delete them. I'll do another copyso I don't have to make all the previous steps."
      ]
    },
    {
      "cell_type": "code",
      "metadata": {
        "colab": {
          "base_uri": "https://localhost:8080/"
        },
        "id": "aOzVgmqd-Wrd",
        "outputId": "509246c0-141a-4307-a1be-df7ddb3101ef"
      },
      "source": [
        "df_2 = df_1.copy()\n",
        "\n",
        "df_2.shape"
      ],
      "execution_count": 229,
      "outputs": [
        {
          "output_type": "execute_result",
          "data": {
            "text/plain": [
              "(19237, 18)"
            ]
          },
          "metadata": {
            "tags": []
          },
          "execution_count": 229
        }
      ]
    },
    {
      "cell_type": "code",
      "metadata": {
        "id": "sbS__fU0BiHk"
      },
      "source": [
        "import numpy as np\n",
        "\n",
        "def outliers(df, col):\n",
        "  Q1 = df[col].quantile(0.25)\n",
        "  Q3 = df[col].quantile(0.75)\n",
        "\n",
        "  IQR = Q3 - Q1\n",
        "\n",
        "  lower, upper = Q1 - 1.5 * IQR, Q3 + 1.5 * IQR # Define the lower and upper bounds for the variable\n",
        "\n",
        "  list_outliers = df.index[(df[col] < lower) | (df[col] > upper)] # Create a list to store the indexes of the outliers if 1 of the 2 conditions I defined hold true\n",
        "  # The \"|\" symbol implies \"OR\"\n",
        "\n",
        "  return list_outliers\n",
        "\n",
        "# Create a list to store the output indexes of multiple columns\n",
        "\n",
        "index_list = []\n",
        "\n",
        "for i in cols:\n",
        "  index_list.extend(outliers(df_2, i))\n"
      ],
      "execution_count": 230,
      "outputs": []
    },
    {
      "cell_type": "code",
      "metadata": {
        "id": "BYZCYqe3PCy5"
      },
      "source": [
        "# Define a function to return a cleaned dataframe without outliers\n",
        "\n",
        "def remove(df,il):\n",
        "  il = sorted(set(il)) # We need to sort the index list and make sure the indexes are unique\n",
        "  df = df.drop(il) # Drop all the indexes from the dataframe that are in the index list\n",
        "  return df"
      ],
      "execution_count": 231,
      "outputs": []
    },
    {
      "cell_type": "code",
      "metadata": {
        "id": "Tq28bEicQasQ"
      },
      "source": [
        "df_cleaned = remove(df_2,index_list)"
      ],
      "execution_count": 232,
      "outputs": []
    },
    {
      "cell_type": "code",
      "metadata": {
        "colab": {
          "base_uri": "https://localhost:8080/"
        },
        "id": "j48d7x8RS5CU",
        "outputId": "9566b49e-6ca7-49d6-ecab-cd84e0a7500c"
      },
      "source": [
        "df_cleaned.shape"
      ],
      "execution_count": 233,
      "outputs": [
        {
          "output_type": "execute_result",
          "data": {
            "text/plain": [
              "(12273, 18)"
            ]
          },
          "metadata": {
            "tags": []
          },
          "execution_count": 233
        }
      ]
    },
    {
      "cell_type": "markdown",
      "metadata": {
        "id": "ekQonO6GU9Ry"
      },
      "source": [
        "### Step 5: Creating aditional features\n",
        "\n",
        "We see that ‘Mileage’ and ‘Engine Volume’ are continuous variables. While performing regression I have observed that binning such variables can help increase the performance of the model.\n",
        "\n",
        "We will also create a new variable by dividing 'Mileage' and the years of the car\n"
      ]
    },
    {
      "cell_type": "code",
      "metadata": {
        "id": "2LVJ4hffU9BW"
      },
      "source": [
        "labels=[0,1,2,3,4,5,6,7,8,9]\n",
        "\n",
        "df_cleaned['Mileage_bin']=pd.cut(df_cleaned['Mileage'],len(labels),labels=labels)\n",
        "df_cleaned['Mileage_bin']=df_cleaned['Mileage_bin'].astype(float)\n",
        "\n",
        "labels=[0,1,2,3,4]\n",
        "\n",
        "df_cleaned['EV_bin']=pd.cut(df_cleaned['Engine volume'],len(labels),labels=labels)\n",
        "df_cleaned['EV_bin']=df_cleaned['EV_bin'].astype(float)"
      ],
      "execution_count": 234,
      "outputs": []
    },
    {
      "cell_type": "code",
      "metadata": {
        "colab": {
          "base_uri": "https://localhost:8080/",
          "height": 343
        },
        "id": "OeOAnBRUYC5Q",
        "outputId": "08a74d32-27b8-4e6a-d079-2ad6ebb71a65"
      },
      "source": [
        "import datetime\n",
        "\n",
        "currentDateTime = datetime.datetime.now()\n",
        "date = currentDateTime.date()\n",
        "year = date.strftime(\"%Y\")\n",
        "\n",
        "year = int(year)\n",
        "year\n",
        "\n",
        "df_cleaned = df_cleaned.rename(columns={'Prod. year':'Prod_year'})\n",
        "\n",
        "df_cleaned['km_per_year'] = df_cleaned.Mileage / (year - df_cleaned.Prod_year)\n",
        "\n",
        "df_cleaned.km_per_year = round(df_cleaned.km_per_year,0)\n",
        "\n",
        "df_cleaned.head()"
      ],
      "execution_count": 235,
      "outputs": [
        {
          "output_type": "execute_result",
          "data": {
            "text/html": [
              "<div>\n",
              "<style scoped>\n",
              "    .dataframe tbody tr th:only-of-type {\n",
              "        vertical-align: middle;\n",
              "    }\n",
              "\n",
              "    .dataframe tbody tr th {\n",
              "        vertical-align: top;\n",
              "    }\n",
              "\n",
              "    .dataframe thead th {\n",
              "        text-align: right;\n",
              "    }\n",
              "</style>\n",
              "<table border=\"1\" class=\"dataframe\">\n",
              "  <thead>\n",
              "    <tr style=\"text-align: right;\">\n",
              "      <th></th>\n",
              "      <th>Price</th>\n",
              "      <th>Levy</th>\n",
              "      <th>Manufacturer</th>\n",
              "      <th>Model</th>\n",
              "      <th>Prod_year</th>\n",
              "      <th>Category</th>\n",
              "      <th>Leather interior</th>\n",
              "      <th>Fuel type</th>\n",
              "      <th>Engine volume</th>\n",
              "      <th>Mileage</th>\n",
              "      <th>Cylinders</th>\n",
              "      <th>Gear box type</th>\n",
              "      <th>Drive wheels</th>\n",
              "      <th>Doors</th>\n",
              "      <th>Wheel</th>\n",
              "      <th>Color</th>\n",
              "      <th>Airbags</th>\n",
              "      <th>Turbo</th>\n",
              "      <th>Mileage_bin</th>\n",
              "      <th>EV_bin</th>\n",
              "      <th>km_per_year</th>\n",
              "    </tr>\n",
              "  </thead>\n",
              "  <tbody>\n",
              "    <tr>\n",
              "      <th>2</th>\n",
              "      <td>8467</td>\n",
              "      <td>906.838128</td>\n",
              "      <td>HONDA</td>\n",
              "      <td>FIT</td>\n",
              "      <td>2006</td>\n",
              "      <td>Hatchback</td>\n",
              "      <td>No</td>\n",
              "      <td>Petrol</td>\n",
              "      <td>1.3</td>\n",
              "      <td>200000</td>\n",
              "      <td>4.0</td>\n",
              "      <td>Variator</td>\n",
              "      <td>Front</td>\n",
              "      <td>4_5</td>\n",
              "      <td>Right-hand drive</td>\n",
              "      <td>Black</td>\n",
              "      <td>2</td>\n",
              "      <td>0</td>\n",
              "      <td>5.0</td>\n",
              "      <td>0.0</td>\n",
              "      <td>13333.0</td>\n",
              "    </tr>\n",
              "    <tr>\n",
              "      <th>3</th>\n",
              "      <td>3607</td>\n",
              "      <td>862.000000</td>\n",
              "      <td>FORD</td>\n",
              "      <td>Escape</td>\n",
              "      <td>2011</td>\n",
              "      <td>Jeep</td>\n",
              "      <td>Yes</td>\n",
              "      <td>Hybrid</td>\n",
              "      <td>2.5</td>\n",
              "      <td>168966</td>\n",
              "      <td>4.0</td>\n",
              "      <td>Automatic</td>\n",
              "      <td>4x4</td>\n",
              "      <td>4_5</td>\n",
              "      <td>Left wheel</td>\n",
              "      <td>White</td>\n",
              "      <td>0</td>\n",
              "      <td>0</td>\n",
              "      <td>4.0</td>\n",
              "      <td>3.0</td>\n",
              "      <td>16897.0</td>\n",
              "    </tr>\n",
              "    <tr>\n",
              "      <th>5</th>\n",
              "      <td>39493</td>\n",
              "      <td>891.000000</td>\n",
              "      <td>HYUNDAI</td>\n",
              "      <td>Santa FE</td>\n",
              "      <td>2016</td>\n",
              "      <td>Jeep</td>\n",
              "      <td>Yes</td>\n",
              "      <td>Diesel</td>\n",
              "      <td>2.0</td>\n",
              "      <td>160931</td>\n",
              "      <td>4.0</td>\n",
              "      <td>Automatic</td>\n",
              "      <td>Front</td>\n",
              "      <td>4_5</td>\n",
              "      <td>Left wheel</td>\n",
              "      <td>White</td>\n",
              "      <td>4</td>\n",
              "      <td>0</td>\n",
              "      <td>4.0</td>\n",
              "      <td>2.0</td>\n",
              "      <td>32186.0</td>\n",
              "    </tr>\n",
              "    <tr>\n",
              "      <th>6</th>\n",
              "      <td>1803</td>\n",
              "      <td>761.000000</td>\n",
              "      <td>TOYOTA</td>\n",
              "      <td>Prius</td>\n",
              "      <td>2010</td>\n",
              "      <td>Hatchback</td>\n",
              "      <td>Yes</td>\n",
              "      <td>Hybrid</td>\n",
              "      <td>1.8</td>\n",
              "      <td>258909</td>\n",
              "      <td>4.0</td>\n",
              "      <td>Automatic</td>\n",
              "      <td>Front</td>\n",
              "      <td>4_5</td>\n",
              "      <td>Left wheel</td>\n",
              "      <td>White</td>\n",
              "      <td>12</td>\n",
              "      <td>0</td>\n",
              "      <td>7.0</td>\n",
              "      <td>1.0</td>\n",
              "      <td>23537.0</td>\n",
              "    </tr>\n",
              "    <tr>\n",
              "      <th>7</th>\n",
              "      <td>549</td>\n",
              "      <td>751.000000</td>\n",
              "      <td>HYUNDAI</td>\n",
              "      <td>Sonata</td>\n",
              "      <td>2013</td>\n",
              "      <td>Sedan</td>\n",
              "      <td>Yes</td>\n",
              "      <td>Petrol</td>\n",
              "      <td>2.4</td>\n",
              "      <td>216118</td>\n",
              "      <td>4.0</td>\n",
              "      <td>Automatic</td>\n",
              "      <td>Front</td>\n",
              "      <td>4_5</td>\n",
              "      <td>Left wheel</td>\n",
              "      <td>Grey</td>\n",
              "      <td>12</td>\n",
              "      <td>0</td>\n",
              "      <td>5.0</td>\n",
              "      <td>2.0</td>\n",
              "      <td>27015.0</td>\n",
              "    </tr>\n",
              "  </tbody>\n",
              "</table>\n",
              "</div>"
            ],
            "text/plain": [
              "   Price        Levy Manufacturer  ... Mileage_bin  EV_bin km_per_year\n",
              "2   8467  906.838128        HONDA  ...         5.0     0.0     13333.0\n",
              "3   3607  862.000000         FORD  ...         4.0     3.0     16897.0\n",
              "5  39493  891.000000      HYUNDAI  ...         4.0     2.0     32186.0\n",
              "6   1803  761.000000       TOYOTA  ...         7.0     1.0     23537.0\n",
              "7    549  751.000000      HYUNDAI  ...         5.0     2.0     27015.0\n",
              "\n",
              "[5 rows x 21 columns]"
            ]
          },
          "metadata": {
            "tags": []
          },
          "execution_count": 235
        }
      ]
    },
    {
      "cell_type": "markdown",
      "metadata": {
        "id": "W-Rbvay6exlS"
      },
      "source": [
        "### Step 6: Handling Cathegorical Variables\n",
        "\n",
        "Here I think differently than the post I'm basing my analysis on. In the post, they used Ordinal Encoder to handle the categorical columns. OrdinalEncoder works similar to LabelEncoder but OrdinalEncoder can be applied to multiple features while LabelEncoder can be applied to One feature at a time.\n",
        "\n",
        "The problem is that **OrdinalEncoder** is used when you have an Ordinal Categorical Variable (for example, the education level).\n",
        "\n",
        "If we see the different categorical variables in our dataframe, we can see that none of these follow a specific order (there are no values in a certain column that are more important thatn others). \n",
        "\n",
        "Having said that, I think that the best way of proceeding is by creating dummy variables for all these cases. To do that, I'll use the **.getDummies()** function."
      ]
    },
    {
      "cell_type": "code",
      "metadata": {
        "id": "5WRTcQS7fXI2",
        "colab": {
          "base_uri": "https://localhost:8080/",
          "height": 487
        },
        "outputId": "6755470b-80aa-4e82-93b9-8640d71e8335"
      },
      "source": [
        "cat_df = df_cleaned.select_dtypes(include=object)\n",
        "cat_df # I create this table only to see that any categorical variable is Ordinal"
      ],
      "execution_count": 236,
      "outputs": [
        {
          "output_type": "execute_result",
          "data": {
            "text/html": [
              "<div>\n",
              "<style scoped>\n",
              "    .dataframe tbody tr th:only-of-type {\n",
              "        vertical-align: middle;\n",
              "    }\n",
              "\n",
              "    .dataframe tbody tr th {\n",
              "        vertical-align: top;\n",
              "    }\n",
              "\n",
              "    .dataframe thead th {\n",
              "        text-align: right;\n",
              "    }\n",
              "</style>\n",
              "<table border=\"1\" class=\"dataframe\">\n",
              "  <thead>\n",
              "    <tr style=\"text-align: right;\">\n",
              "      <th></th>\n",
              "      <th>Manufacturer</th>\n",
              "      <th>Model</th>\n",
              "      <th>Category</th>\n",
              "      <th>Leather interior</th>\n",
              "      <th>Fuel type</th>\n",
              "      <th>Gear box type</th>\n",
              "      <th>Drive wheels</th>\n",
              "      <th>Doors</th>\n",
              "      <th>Wheel</th>\n",
              "      <th>Color</th>\n",
              "    </tr>\n",
              "  </thead>\n",
              "  <tbody>\n",
              "    <tr>\n",
              "      <th>2</th>\n",
              "      <td>HONDA</td>\n",
              "      <td>FIT</td>\n",
              "      <td>Hatchback</td>\n",
              "      <td>No</td>\n",
              "      <td>Petrol</td>\n",
              "      <td>Variator</td>\n",
              "      <td>Front</td>\n",
              "      <td>4_5</td>\n",
              "      <td>Right-hand drive</td>\n",
              "      <td>Black</td>\n",
              "    </tr>\n",
              "    <tr>\n",
              "      <th>3</th>\n",
              "      <td>FORD</td>\n",
              "      <td>Escape</td>\n",
              "      <td>Jeep</td>\n",
              "      <td>Yes</td>\n",
              "      <td>Hybrid</td>\n",
              "      <td>Automatic</td>\n",
              "      <td>4x4</td>\n",
              "      <td>4_5</td>\n",
              "      <td>Left wheel</td>\n",
              "      <td>White</td>\n",
              "    </tr>\n",
              "    <tr>\n",
              "      <th>5</th>\n",
              "      <td>HYUNDAI</td>\n",
              "      <td>Santa FE</td>\n",
              "      <td>Jeep</td>\n",
              "      <td>Yes</td>\n",
              "      <td>Diesel</td>\n",
              "      <td>Automatic</td>\n",
              "      <td>Front</td>\n",
              "      <td>4_5</td>\n",
              "      <td>Left wheel</td>\n",
              "      <td>White</td>\n",
              "    </tr>\n",
              "    <tr>\n",
              "      <th>6</th>\n",
              "      <td>TOYOTA</td>\n",
              "      <td>Prius</td>\n",
              "      <td>Hatchback</td>\n",
              "      <td>Yes</td>\n",
              "      <td>Hybrid</td>\n",
              "      <td>Automatic</td>\n",
              "      <td>Front</td>\n",
              "      <td>4_5</td>\n",
              "      <td>Left wheel</td>\n",
              "      <td>White</td>\n",
              "    </tr>\n",
              "    <tr>\n",
              "      <th>7</th>\n",
              "      <td>HYUNDAI</td>\n",
              "      <td>Sonata</td>\n",
              "      <td>Sedan</td>\n",
              "      <td>Yes</td>\n",
              "      <td>Petrol</td>\n",
              "      <td>Automatic</td>\n",
              "      <td>Front</td>\n",
              "      <td>4_5</td>\n",
              "      <td>Left wheel</td>\n",
              "      <td>Grey</td>\n",
              "    </tr>\n",
              "    <tr>\n",
              "      <th>...</th>\n",
              "      <td>...</td>\n",
              "      <td>...</td>\n",
              "      <td>...</td>\n",
              "      <td>...</td>\n",
              "      <td>...</td>\n",
              "      <td>...</td>\n",
              "      <td>...</td>\n",
              "      <td>...</td>\n",
              "      <td>...</td>\n",
              "      <td>...</td>\n",
              "    </tr>\n",
              "    <tr>\n",
              "      <th>19230</th>\n",
              "      <td>TOYOTA</td>\n",
              "      <td>Prius</td>\n",
              "      <td>Hatchback</td>\n",
              "      <td>Yes</td>\n",
              "      <td>Hybrid</td>\n",
              "      <td>Automatic</td>\n",
              "      <td>Front</td>\n",
              "      <td>4_5</td>\n",
              "      <td>Left wheel</td>\n",
              "      <td>Silver</td>\n",
              "    </tr>\n",
              "    <tr>\n",
              "      <th>19232</th>\n",
              "      <td>MERCEDES-BENZ</td>\n",
              "      <td>CLK 200</td>\n",
              "      <td>Coupe</td>\n",
              "      <td>Yes</td>\n",
              "      <td>CNG</td>\n",
              "      <td>Manual</td>\n",
              "      <td>Rear</td>\n",
              "      <td>2_3</td>\n",
              "      <td>Left wheel</td>\n",
              "      <td>Silver</td>\n",
              "    </tr>\n",
              "    <tr>\n",
              "      <th>19233</th>\n",
              "      <td>HYUNDAI</td>\n",
              "      <td>Sonata</td>\n",
              "      <td>Sedan</td>\n",
              "      <td>Yes</td>\n",
              "      <td>Petrol</td>\n",
              "      <td>Tiptronic</td>\n",
              "      <td>Front</td>\n",
              "      <td>4_5</td>\n",
              "      <td>Left wheel</td>\n",
              "      <td>Red</td>\n",
              "    </tr>\n",
              "    <tr>\n",
              "      <th>19234</th>\n",
              "      <td>HYUNDAI</td>\n",
              "      <td>Tucson</td>\n",
              "      <td>Jeep</td>\n",
              "      <td>Yes</td>\n",
              "      <td>Diesel</td>\n",
              "      <td>Automatic</td>\n",
              "      <td>Front</td>\n",
              "      <td>4_5</td>\n",
              "      <td>Left wheel</td>\n",
              "      <td>Grey</td>\n",
              "    </tr>\n",
              "    <tr>\n",
              "      <th>19236</th>\n",
              "      <td>HYUNDAI</td>\n",
              "      <td>Sonata</td>\n",
              "      <td>Sedan</td>\n",
              "      <td>Yes</td>\n",
              "      <td>Hybrid</td>\n",
              "      <td>Automatic</td>\n",
              "      <td>Front</td>\n",
              "      <td>4_5</td>\n",
              "      <td>Left wheel</td>\n",
              "      <td>White</td>\n",
              "    </tr>\n",
              "  </tbody>\n",
              "</table>\n",
              "<p>12273 rows × 10 columns</p>\n",
              "</div>"
            ],
            "text/plain": [
              "        Manufacturer     Model   Category  ... Doors             Wheel   Color\n",
              "2              HONDA       FIT  Hatchback  ...   4_5  Right-hand drive   Black\n",
              "3               FORD    Escape       Jeep  ...   4_5        Left wheel   White\n",
              "5            HYUNDAI  Santa FE       Jeep  ...   4_5        Left wheel   White\n",
              "6             TOYOTA     Prius  Hatchback  ...   4_5        Left wheel   White\n",
              "7            HYUNDAI    Sonata      Sedan  ...   4_5        Left wheel    Grey\n",
              "...              ...       ...        ...  ...   ...               ...     ...\n",
              "19230         TOYOTA     Prius  Hatchback  ...   4_5        Left wheel  Silver\n",
              "19232  MERCEDES-BENZ   CLK 200      Coupe  ...   2_3        Left wheel  Silver\n",
              "19233        HYUNDAI    Sonata      Sedan  ...   4_5        Left wheel     Red\n",
              "19234        HYUNDAI    Tucson       Jeep  ...   4_5        Left wheel    Grey\n",
              "19236        HYUNDAI    Sonata      Sedan  ...   4_5        Left wheel   White\n",
              "\n",
              "[12273 rows x 10 columns]"
            ]
          },
          "metadata": {
            "tags": []
          },
          "execution_count": 236
        }
      ]
    },
    {
      "cell_type": "code",
      "metadata": {
        "colab": {
          "base_uri": "https://localhost:8080/"
        },
        "id": "Mb6zi7NDhCC3",
        "outputId": "2b9c2e13-66be-4a95-8f59-340a319eb7ea"
      },
      "source": [
        "cat_df.columns"
      ],
      "execution_count": 237,
      "outputs": [
        {
          "output_type": "execute_result",
          "data": {
            "text/plain": [
              "Index(['Manufacturer', 'Model', 'Category', 'Leather interior', 'Fuel type',\n",
              "       'Gear box type', 'Drive wheels', 'Doors', 'Wheel', 'Color'],\n",
              "      dtype='object')"
            ]
          },
          "metadata": {
            "tags": []
          },
          "execution_count": 237
        }
      ]
    },
    {
      "cell_type": "code",
      "metadata": {
        "colab": {
          "base_uri": "https://localhost:8080/",
          "height": 287
        },
        "id": "MlLVDdCCgfrm",
        "outputId": "8c35e442-db88-48f2-b11e-aaddb346abdf"
      },
      "source": [
        "df_final = pd.get_dummies(df_cleaned, columns = ['Manufacturer', 'Model', 'Category', 'Leather interior', 'Fuel type','Gear box type', 'Drive wheels', 'Doors', 'Wheel', 'Color'])\n",
        "\n",
        "df_final.head()"
      ],
      "execution_count": 241,
      "outputs": [
        {
          "output_type": "execute_result",
          "data": {
            "text/html": [
              "<div>\n",
              "<style scoped>\n",
              "    .dataframe tbody tr th:only-of-type {\n",
              "        vertical-align: middle;\n",
              "    }\n",
              "\n",
              "    .dataframe tbody tr th {\n",
              "        vertical-align: top;\n",
              "    }\n",
              "\n",
              "    .dataframe thead th {\n",
              "        text-align: right;\n",
              "    }\n",
              "</style>\n",
              "<table border=\"1\" class=\"dataframe\">\n",
              "  <thead>\n",
              "    <tr style=\"text-align: right;\">\n",
              "      <th></th>\n",
              "      <th>Price</th>\n",
              "      <th>Levy</th>\n",
              "      <th>Prod_year</th>\n",
              "      <th>Engine volume</th>\n",
              "      <th>Mileage</th>\n",
              "      <th>Cylinders</th>\n",
              "      <th>Airbags</th>\n",
              "      <th>Turbo</th>\n",
              "      <th>Mileage_bin</th>\n",
              "      <th>EV_bin</th>\n",
              "      <th>km_per_year</th>\n",
              "      <th>Manufacturer_ACURA</th>\n",
              "      <th>Manufacturer_ALFA ROMEO</th>\n",
              "      <th>Manufacturer_AUDI</th>\n",
              "      <th>Manufacturer_BMW</th>\n",
              "      <th>Manufacturer_BUICK</th>\n",
              "      <th>Manufacturer_CADILLAC</th>\n",
              "      <th>Manufacturer_CHEVROLET</th>\n",
              "      <th>Manufacturer_CHRYSLER</th>\n",
              "      <th>Manufacturer_CITROEN</th>\n",
              "      <th>Manufacturer_DAEWOO</th>\n",
              "      <th>Manufacturer_DAIHATSU</th>\n",
              "      <th>Manufacturer_DODGE</th>\n",
              "      <th>Manufacturer_FIAT</th>\n",
              "      <th>Manufacturer_FORD</th>\n",
              "      <th>Manufacturer_GAZ</th>\n",
              "      <th>Manufacturer_GMC</th>\n",
              "      <th>Manufacturer_HAVAL</th>\n",
              "      <th>Manufacturer_HONDA</th>\n",
              "      <th>Manufacturer_HYUNDAI</th>\n",
              "      <th>Manufacturer_INFINITI</th>\n",
              "      <th>Manufacturer_JAGUAR</th>\n",
              "      <th>Manufacturer_JEEP</th>\n",
              "      <th>Manufacturer_KIA</th>\n",
              "      <th>Manufacturer_LANCIA</th>\n",
              "      <th>Manufacturer_LAND ROVER</th>\n",
              "      <th>Manufacturer_LEXUS</th>\n",
              "      <th>Manufacturer_LINCOLN</th>\n",
              "      <th>Manufacturer_MAZDA</th>\n",
              "      <th>Manufacturer_MERCEDES-BENZ</th>\n",
              "      <th>...</th>\n",
              "      <th>Category_Minivan</th>\n",
              "      <th>Category_Pickup</th>\n",
              "      <th>Category_Sedan</th>\n",
              "      <th>Category_Universal</th>\n",
              "      <th>Leather interior_No</th>\n",
              "      <th>Leather interior_Yes</th>\n",
              "      <th>Fuel type_CNG</th>\n",
              "      <th>Fuel type_Diesel</th>\n",
              "      <th>Fuel type_Hybrid</th>\n",
              "      <th>Fuel type_LPG</th>\n",
              "      <th>Fuel type_Petrol</th>\n",
              "      <th>Fuel type_Plug-in Hybrid</th>\n",
              "      <th>Gear box type_Automatic</th>\n",
              "      <th>Gear box type_Manual</th>\n",
              "      <th>Gear box type_Tiptronic</th>\n",
              "      <th>Gear box type_Variator</th>\n",
              "      <th>Drive wheels_4x4</th>\n",
              "      <th>Drive wheels_Front</th>\n",
              "      <th>Drive wheels_Rear</th>\n",
              "      <th>Doors_2_3</th>\n",
              "      <th>Doors_4_5</th>\n",
              "      <th>Doors_5</th>\n",
              "      <th>Wheel_Left wheel</th>\n",
              "      <th>Wheel_Right-hand drive</th>\n",
              "      <th>Color_Beige</th>\n",
              "      <th>Color_Black</th>\n",
              "      <th>Color_Blue</th>\n",
              "      <th>Color_Brown</th>\n",
              "      <th>Color_Carnelian red</th>\n",
              "      <th>Color_Golden</th>\n",
              "      <th>Color_Green</th>\n",
              "      <th>Color_Grey</th>\n",
              "      <th>Color_Orange</th>\n",
              "      <th>Color_Pink</th>\n",
              "      <th>Color_Purple</th>\n",
              "      <th>Color_Red</th>\n",
              "      <th>Color_Silver</th>\n",
              "      <th>Color_Sky blue</th>\n",
              "      <th>Color_White</th>\n",
              "      <th>Color_Yellow</th>\n",
              "    </tr>\n",
              "  </thead>\n",
              "  <tbody>\n",
              "    <tr>\n",
              "      <th>2</th>\n",
              "      <td>8467</td>\n",
              "      <td>906.838128</td>\n",
              "      <td>2006</td>\n",
              "      <td>1.3</td>\n",
              "      <td>200000</td>\n",
              "      <td>4.0</td>\n",
              "      <td>2</td>\n",
              "      <td>0</td>\n",
              "      <td>5.0</td>\n",
              "      <td>0.0</td>\n",
              "      <td>13333.0</td>\n",
              "      <td>0</td>\n",
              "      <td>0</td>\n",
              "      <td>0</td>\n",
              "      <td>0</td>\n",
              "      <td>0</td>\n",
              "      <td>0</td>\n",
              "      <td>0</td>\n",
              "      <td>0</td>\n",
              "      <td>0</td>\n",
              "      <td>0</td>\n",
              "      <td>0</td>\n",
              "      <td>0</td>\n",
              "      <td>0</td>\n",
              "      <td>0</td>\n",
              "      <td>0</td>\n",
              "      <td>0</td>\n",
              "      <td>0</td>\n",
              "      <td>1</td>\n",
              "      <td>0</td>\n",
              "      <td>0</td>\n",
              "      <td>0</td>\n",
              "      <td>0</td>\n",
              "      <td>0</td>\n",
              "      <td>0</td>\n",
              "      <td>0</td>\n",
              "      <td>0</td>\n",
              "      <td>0</td>\n",
              "      <td>0</td>\n",
              "      <td>0</td>\n",
              "      <td>...</td>\n",
              "      <td>0</td>\n",
              "      <td>0</td>\n",
              "      <td>0</td>\n",
              "      <td>0</td>\n",
              "      <td>1</td>\n",
              "      <td>0</td>\n",
              "      <td>0</td>\n",
              "      <td>0</td>\n",
              "      <td>0</td>\n",
              "      <td>0</td>\n",
              "      <td>1</td>\n",
              "      <td>0</td>\n",
              "      <td>0</td>\n",
              "      <td>0</td>\n",
              "      <td>0</td>\n",
              "      <td>1</td>\n",
              "      <td>0</td>\n",
              "      <td>1</td>\n",
              "      <td>0</td>\n",
              "      <td>0</td>\n",
              "      <td>1</td>\n",
              "      <td>0</td>\n",
              "      <td>0</td>\n",
              "      <td>1</td>\n",
              "      <td>0</td>\n",
              "      <td>1</td>\n",
              "      <td>0</td>\n",
              "      <td>0</td>\n",
              "      <td>0</td>\n",
              "      <td>0</td>\n",
              "      <td>0</td>\n",
              "      <td>0</td>\n",
              "      <td>0</td>\n",
              "      <td>0</td>\n",
              "      <td>0</td>\n",
              "      <td>0</td>\n",
              "      <td>0</td>\n",
              "      <td>0</td>\n",
              "      <td>0</td>\n",
              "      <td>0</td>\n",
              "    </tr>\n",
              "    <tr>\n",
              "      <th>3</th>\n",
              "      <td>3607</td>\n",
              "      <td>862.000000</td>\n",
              "      <td>2011</td>\n",
              "      <td>2.5</td>\n",
              "      <td>168966</td>\n",
              "      <td>4.0</td>\n",
              "      <td>0</td>\n",
              "      <td>0</td>\n",
              "      <td>4.0</td>\n",
              "      <td>3.0</td>\n",
              "      <td>16897.0</td>\n",
              "      <td>0</td>\n",
              "      <td>0</td>\n",
              "      <td>0</td>\n",
              "      <td>0</td>\n",
              "      <td>0</td>\n",
              "      <td>0</td>\n",
              "      <td>0</td>\n",
              "      <td>0</td>\n",
              "      <td>0</td>\n",
              "      <td>0</td>\n",
              "      <td>0</td>\n",
              "      <td>0</td>\n",
              "      <td>0</td>\n",
              "      <td>1</td>\n",
              "      <td>0</td>\n",
              "      <td>0</td>\n",
              "      <td>0</td>\n",
              "      <td>0</td>\n",
              "      <td>0</td>\n",
              "      <td>0</td>\n",
              "      <td>0</td>\n",
              "      <td>0</td>\n",
              "      <td>0</td>\n",
              "      <td>0</td>\n",
              "      <td>0</td>\n",
              "      <td>0</td>\n",
              "      <td>0</td>\n",
              "      <td>0</td>\n",
              "      <td>0</td>\n",
              "      <td>...</td>\n",
              "      <td>0</td>\n",
              "      <td>0</td>\n",
              "      <td>0</td>\n",
              "      <td>0</td>\n",
              "      <td>0</td>\n",
              "      <td>1</td>\n",
              "      <td>0</td>\n",
              "      <td>0</td>\n",
              "      <td>1</td>\n",
              "      <td>0</td>\n",
              "      <td>0</td>\n",
              "      <td>0</td>\n",
              "      <td>1</td>\n",
              "      <td>0</td>\n",
              "      <td>0</td>\n",
              "      <td>0</td>\n",
              "      <td>1</td>\n",
              "      <td>0</td>\n",
              "      <td>0</td>\n",
              "      <td>0</td>\n",
              "      <td>1</td>\n",
              "      <td>0</td>\n",
              "      <td>1</td>\n",
              "      <td>0</td>\n",
              "      <td>0</td>\n",
              "      <td>0</td>\n",
              "      <td>0</td>\n",
              "      <td>0</td>\n",
              "      <td>0</td>\n",
              "      <td>0</td>\n",
              "      <td>0</td>\n",
              "      <td>0</td>\n",
              "      <td>0</td>\n",
              "      <td>0</td>\n",
              "      <td>0</td>\n",
              "      <td>0</td>\n",
              "      <td>0</td>\n",
              "      <td>0</td>\n",
              "      <td>1</td>\n",
              "      <td>0</td>\n",
              "    </tr>\n",
              "    <tr>\n",
              "      <th>5</th>\n",
              "      <td>39493</td>\n",
              "      <td>891.000000</td>\n",
              "      <td>2016</td>\n",
              "      <td>2.0</td>\n",
              "      <td>160931</td>\n",
              "      <td>4.0</td>\n",
              "      <td>4</td>\n",
              "      <td>0</td>\n",
              "      <td>4.0</td>\n",
              "      <td>2.0</td>\n",
              "      <td>32186.0</td>\n",
              "      <td>0</td>\n",
              "      <td>0</td>\n",
              "      <td>0</td>\n",
              "      <td>0</td>\n",
              "      <td>0</td>\n",
              "      <td>0</td>\n",
              "      <td>0</td>\n",
              "      <td>0</td>\n",
              "      <td>0</td>\n",
              "      <td>0</td>\n",
              "      <td>0</td>\n",
              "      <td>0</td>\n",
              "      <td>0</td>\n",
              "      <td>0</td>\n",
              "      <td>0</td>\n",
              "      <td>0</td>\n",
              "      <td>0</td>\n",
              "      <td>0</td>\n",
              "      <td>1</td>\n",
              "      <td>0</td>\n",
              "      <td>0</td>\n",
              "      <td>0</td>\n",
              "      <td>0</td>\n",
              "      <td>0</td>\n",
              "      <td>0</td>\n",
              "      <td>0</td>\n",
              "      <td>0</td>\n",
              "      <td>0</td>\n",
              "      <td>0</td>\n",
              "      <td>...</td>\n",
              "      <td>0</td>\n",
              "      <td>0</td>\n",
              "      <td>0</td>\n",
              "      <td>0</td>\n",
              "      <td>0</td>\n",
              "      <td>1</td>\n",
              "      <td>0</td>\n",
              "      <td>1</td>\n",
              "      <td>0</td>\n",
              "      <td>0</td>\n",
              "      <td>0</td>\n",
              "      <td>0</td>\n",
              "      <td>1</td>\n",
              "      <td>0</td>\n",
              "      <td>0</td>\n",
              "      <td>0</td>\n",
              "      <td>0</td>\n",
              "      <td>1</td>\n",
              "      <td>0</td>\n",
              "      <td>0</td>\n",
              "      <td>1</td>\n",
              "      <td>0</td>\n",
              "      <td>1</td>\n",
              "      <td>0</td>\n",
              "      <td>0</td>\n",
              "      <td>0</td>\n",
              "      <td>0</td>\n",
              "      <td>0</td>\n",
              "      <td>0</td>\n",
              "      <td>0</td>\n",
              "      <td>0</td>\n",
              "      <td>0</td>\n",
              "      <td>0</td>\n",
              "      <td>0</td>\n",
              "      <td>0</td>\n",
              "      <td>0</td>\n",
              "      <td>0</td>\n",
              "      <td>0</td>\n",
              "      <td>1</td>\n",
              "      <td>0</td>\n",
              "    </tr>\n",
              "    <tr>\n",
              "      <th>6</th>\n",
              "      <td>1803</td>\n",
              "      <td>761.000000</td>\n",
              "      <td>2010</td>\n",
              "      <td>1.8</td>\n",
              "      <td>258909</td>\n",
              "      <td>4.0</td>\n",
              "      <td>12</td>\n",
              "      <td>0</td>\n",
              "      <td>7.0</td>\n",
              "      <td>1.0</td>\n",
              "      <td>23537.0</td>\n",
              "      <td>0</td>\n",
              "      <td>0</td>\n",
              "      <td>0</td>\n",
              "      <td>0</td>\n",
              "      <td>0</td>\n",
              "      <td>0</td>\n",
              "      <td>0</td>\n",
              "      <td>0</td>\n",
              "      <td>0</td>\n",
              "      <td>0</td>\n",
              "      <td>0</td>\n",
              "      <td>0</td>\n",
              "      <td>0</td>\n",
              "      <td>0</td>\n",
              "      <td>0</td>\n",
              "      <td>0</td>\n",
              "      <td>0</td>\n",
              "      <td>0</td>\n",
              "      <td>0</td>\n",
              "      <td>0</td>\n",
              "      <td>0</td>\n",
              "      <td>0</td>\n",
              "      <td>0</td>\n",
              "      <td>0</td>\n",
              "      <td>0</td>\n",
              "      <td>0</td>\n",
              "      <td>0</td>\n",
              "      <td>0</td>\n",
              "      <td>0</td>\n",
              "      <td>...</td>\n",
              "      <td>0</td>\n",
              "      <td>0</td>\n",
              "      <td>0</td>\n",
              "      <td>0</td>\n",
              "      <td>0</td>\n",
              "      <td>1</td>\n",
              "      <td>0</td>\n",
              "      <td>0</td>\n",
              "      <td>1</td>\n",
              "      <td>0</td>\n",
              "      <td>0</td>\n",
              "      <td>0</td>\n",
              "      <td>1</td>\n",
              "      <td>0</td>\n",
              "      <td>0</td>\n",
              "      <td>0</td>\n",
              "      <td>0</td>\n",
              "      <td>1</td>\n",
              "      <td>0</td>\n",
              "      <td>0</td>\n",
              "      <td>1</td>\n",
              "      <td>0</td>\n",
              "      <td>1</td>\n",
              "      <td>0</td>\n",
              "      <td>0</td>\n",
              "      <td>0</td>\n",
              "      <td>0</td>\n",
              "      <td>0</td>\n",
              "      <td>0</td>\n",
              "      <td>0</td>\n",
              "      <td>0</td>\n",
              "      <td>0</td>\n",
              "      <td>0</td>\n",
              "      <td>0</td>\n",
              "      <td>0</td>\n",
              "      <td>0</td>\n",
              "      <td>0</td>\n",
              "      <td>0</td>\n",
              "      <td>1</td>\n",
              "      <td>0</td>\n",
              "    </tr>\n",
              "    <tr>\n",
              "      <th>7</th>\n",
              "      <td>549</td>\n",
              "      <td>751.000000</td>\n",
              "      <td>2013</td>\n",
              "      <td>2.4</td>\n",
              "      <td>216118</td>\n",
              "      <td>4.0</td>\n",
              "      <td>12</td>\n",
              "      <td>0</td>\n",
              "      <td>5.0</td>\n",
              "      <td>2.0</td>\n",
              "      <td>27015.0</td>\n",
              "      <td>0</td>\n",
              "      <td>0</td>\n",
              "      <td>0</td>\n",
              "      <td>0</td>\n",
              "      <td>0</td>\n",
              "      <td>0</td>\n",
              "      <td>0</td>\n",
              "      <td>0</td>\n",
              "      <td>0</td>\n",
              "      <td>0</td>\n",
              "      <td>0</td>\n",
              "      <td>0</td>\n",
              "      <td>0</td>\n",
              "      <td>0</td>\n",
              "      <td>0</td>\n",
              "      <td>0</td>\n",
              "      <td>0</td>\n",
              "      <td>0</td>\n",
              "      <td>1</td>\n",
              "      <td>0</td>\n",
              "      <td>0</td>\n",
              "      <td>0</td>\n",
              "      <td>0</td>\n",
              "      <td>0</td>\n",
              "      <td>0</td>\n",
              "      <td>0</td>\n",
              "      <td>0</td>\n",
              "      <td>0</td>\n",
              "      <td>0</td>\n",
              "      <td>...</td>\n",
              "      <td>0</td>\n",
              "      <td>0</td>\n",
              "      <td>1</td>\n",
              "      <td>0</td>\n",
              "      <td>0</td>\n",
              "      <td>1</td>\n",
              "      <td>0</td>\n",
              "      <td>0</td>\n",
              "      <td>0</td>\n",
              "      <td>0</td>\n",
              "      <td>1</td>\n",
              "      <td>0</td>\n",
              "      <td>1</td>\n",
              "      <td>0</td>\n",
              "      <td>0</td>\n",
              "      <td>0</td>\n",
              "      <td>0</td>\n",
              "      <td>1</td>\n",
              "      <td>0</td>\n",
              "      <td>0</td>\n",
              "      <td>1</td>\n",
              "      <td>0</td>\n",
              "      <td>1</td>\n",
              "      <td>0</td>\n",
              "      <td>0</td>\n",
              "      <td>0</td>\n",
              "      <td>0</td>\n",
              "      <td>0</td>\n",
              "      <td>0</td>\n",
              "      <td>0</td>\n",
              "      <td>0</td>\n",
              "      <td>1</td>\n",
              "      <td>0</td>\n",
              "      <td>0</td>\n",
              "      <td>0</td>\n",
              "      <td>0</td>\n",
              "      <td>0</td>\n",
              "      <td>0</td>\n",
              "      <td>0</td>\n",
              "      <td>0</td>\n",
              "    </tr>\n",
              "  </tbody>\n",
              "</table>\n",
              "<p>5 rows × 1098 columns</p>\n",
              "</div>"
            ],
            "text/plain": [
              "   Price        Levy  Prod_year  ...  Color_Sky blue  Color_White  Color_Yellow\n",
              "2   8467  906.838128       2006  ...               0            0             0\n",
              "3   3607  862.000000       2011  ...               0            1             0\n",
              "5  39493  891.000000       2016  ...               0            1             0\n",
              "6   1803  761.000000       2010  ...               0            1             0\n",
              "7    549  751.000000       2013  ...               0            0             0\n",
              "\n",
              "[5 rows x 1098 columns]"
            ]
          },
          "metadata": {
            "tags": []
          },
          "execution_count": 241
        }
      ]
    },
    {
      "cell_type": "markdown",
      "metadata": {
        "id": "gmiqD7ChmIXj"
      },
      "source": [
        "## Developing Models\n",
        "\n",
        "Now we'll evaluate the data using differnt Random Forest. I'll then compare the results with 2 Deep Learning models (2 Neural Networks of different size). "
      ]
    },
    {
      "cell_type": "markdown",
      "metadata": {
        "id": "1vmMCuQPnChV"
      },
      "source": [
        "### Data Splitting and Scaling\n",
        "\n",
        "We will split the data into 80/20 for the training and test sets"
      ]
    },
    {
      "cell_type": "code",
      "metadata": {
        "id": "fZvMNuXDnQzu"
      },
      "source": [
        "from sklearn.model_selection import train_test_split\n",
        "from sklearn.preprocessing import StandardScaler\n",
        "\n",
        "X = df_final.drop(['Price'],axis=1)\n",
        "\n",
        "y = df_final['Price']\n",
        "\n",
        "X_train, X_test, y_train, y_test = train_test_split(X,y,test_size=0.2,random_state=25)\n",
        "\n",
        "scaler = StandardScaler() # Normalize variables\n",
        "\n",
        "X_train_scaled = scaler.fit_transform(X_train)\n",
        "\n",
        "X_test_scaled = scaler.transform(X_test)"
      ],
      "execution_count": 242,
      "outputs": []
    },
    {
      "cell_type": "markdown",
      "metadata": {
        "id": "YSK5aFo1KCL4"
      },
      "source": [
        "### Random Forest"
      ]
    },
    {
      "cell_type": "code",
      "metadata": {
        "id": "c2weXsxpKHiE",
        "colab": {
          "base_uri": "https://localhost:8080/"
        },
        "outputId": "2b085266-d4b7-4984-9d70-f3ec45e7189b"
      },
      "source": [
        "from sklearn.metrics import mean_squared_error, mean_absolute_error, r2_score, mean_squared_log_error\n",
        "from sklearn.ensemble import RandomForestRegressor\n",
        "\n",
        "\n",
        "model=RandomForestRegressor(n_estimators=200)\n",
        "\n",
        "model.fit(X_train_scaled,np.log(y_train))\n"
      ],
      "execution_count": 243,
      "outputs": [
        {
          "output_type": "execute_result",
          "data": {
            "text/plain": [
              "RandomForestRegressor(bootstrap=True, ccp_alpha=0.0, criterion='mse',\n",
              "                      max_depth=None, max_features='auto', max_leaf_nodes=None,\n",
              "                      max_samples=None, min_impurity_decrease=0.0,\n",
              "                      min_impurity_split=None, min_samples_leaf=1,\n",
              "                      min_samples_split=2, min_weight_fraction_leaf=0.0,\n",
              "                      n_estimators=200, n_jobs=None, oob_score=False,\n",
              "                      random_state=None, verbose=0, warm_start=False)"
            ]
          },
          "metadata": {
            "tags": []
          },
          "execution_count": 243
        }
      ]
    },
    {
      "cell_type": "markdown",
      "metadata": {
        "id": "EIWOEh7-co_d"
      },
      "source": [
        "Predict the outcom for the y_test set"
      ]
    },
    {
      "cell_type": "code",
      "metadata": {
        "colab": {
          "base_uri": "https://localhost:8080/"
        },
        "id": "t3B5pi3gKU0I",
        "outputId": "d2fa5aaa-5206-498f-a4e6-06ac55a5d79b"
      },
      "source": [
        "predictions = model.predict(X_test_scaled)\n",
        "\n",
        "predictions = np.exp(predictions)\n",
        "\n",
        "mse = mean_squared_error(y_test,predictions)\n",
        "mae = mean_absolute_error(y_test,predictions)\n",
        "r2s = r2_score(y_test,predictions)\n",
        "msle = mean_squared_log_error(y_test,predictions)\n",
        "\n",
        "rmse = round(np.sqrt(mse),2) # Mean Squared Error\n",
        "mae = round(mae,2) # Mean Absolute Error\n",
        "r2s = round(r2s,2) # R^2 Score\n",
        "rmsle = round(np.sqrt(msle),2) # Root Mean Squared Log Error: it only cares about the percentual difference between them. MSLE will treat small differences between small true and predicted values approximately the same as big differences between large true and predicted values.\n",
        "\n",
        "results = [rmse,mae,r2s,rmsle]\n",
        "\n",
        "results\n"
      ],
      "execution_count": 244,
      "outputs": [
        {
          "output_type": "execute_result",
          "data": {
            "text/plain": [
              "[7370.38, 3866.15, 0.76, 0.96]"
            ]
          },
          "metadata": {
            "tags": []
          },
          "execution_count": 244
        }
      ]
    },
    {
      "cell_type": "code",
      "metadata": {
        "colab": {
          "base_uri": "https://localhost:8080/"
        },
        "id": "4QhhJrAvU1Mn",
        "outputId": "8865ae16-f7d0-4d5c-a62d-580282d9e7f3"
      },
      "source": [
        "from prettytable import PrettyTable\n",
        "\n",
        "summary = PrettyTable(['Model','RMSE','MAE','R2S','RMSLE'])\n",
        "\n",
        "summary.add_row(['Random Forest']+results)\n",
        "summary.add_row(['RF Post', round(np.sqrt(106322708.44),2), 4595.32, 'Not Defined', 0.79])\n",
        "\n",
        "print(summary)"
      ],
      "execution_count": 267,
      "outputs": [
        {
          "output_type": "stream",
          "text": [
            "+---------------+----------+---------+-------------+-------+\n",
            "|     Model     |   RMSE   |   MAE   |     R2S     | RMSLE |\n",
            "+---------------+----------+---------+-------------+-------+\n",
            "| Random Forest | 7370.38  | 3866.15 |     0.76    |  0.96 |\n",
            "|    RF Post    | 10311.29 | 4595.32 | Not Defined |  0.79 |\n",
            "+---------------+----------+---------+-------------+-------+\n"
          ],
          "name": "stdout"
        }
      ]
    },
    {
      "cell_type": "markdown",
      "metadata": {
        "id": "-m72I46ifHi0"
      },
      "source": [
        "I'll try to plot the results along with the predicted values"
      ]
    },
    {
      "cell_type": "code",
      "metadata": {
        "id": "6L2aBmCUmwal"
      },
      "source": [
        "import matplotlib.pyplot as plt"
      ],
      "execution_count": 245,
      "outputs": []
    },
    {
      "cell_type": "code",
      "metadata": {
        "colab": {
          "base_uri": "https://localhost:8080/"
        },
        "id": "HMws5f7-hKJD",
        "outputId": "1c80a8b7-d9ec-4e05-c981-51bddd432f87"
      },
      "source": [
        "y_test_array = np.array(y_test)\n",
        "\n",
        "y_test_array.shape"
      ],
      "execution_count": 246,
      "outputs": [
        {
          "output_type": "execute_result",
          "data": {
            "text/plain": [
              "(2455,)"
            ]
          },
          "metadata": {
            "tags": []
          },
          "execution_count": 246
        }
      ]
    },
    {
      "cell_type": "code",
      "metadata": {
        "id": "Ov08XdN4hmme"
      },
      "source": [
        "y_test_array_df = pd.DataFrame(y_test_array, columns = ['Test'])\n",
        "predictions_df = pd.DataFrame(predictions, columns = ['Predictions'])\n",
        "\n",
        "y_test_array_df['Predictions'] = predictions_df['Predictions']\n",
        "y_test_array_df['Difference'] = y_test_array_df['Predictions'] - y_test_array_df['Test']\n",
        "\n",
        "y_test_array_df"
      ],
      "execution_count": null,
      "outputs": []
    },
    {
      "cell_type": "code",
      "metadata": {
        "colab": {
          "base_uri": "https://localhost:8080/",
          "height": 282
        },
        "id": "3GP56os4lA24",
        "outputId": "eae58d19-6961-4d0c-fd7c-284e29e12332"
      },
      "source": [
        "plt.plot(y_test_array_df['Difference'])"
      ],
      "execution_count": 248,
      "outputs": [
        {
          "output_type": "execute_result",
          "data": {
            "text/plain": [
              "[<matplotlib.lines.Line2D at 0x7fe820d15710>]"
            ]
          },
          "metadata": {
            "tags": []
          },
          "execution_count": 248
        },
        {
          "output_type": "display_data",
          "data": {
            "image/png": "[encoded data removed]",
            "text/plain": [
              "<Figure size 432x288 with 1 Axes>"
            ]
          },
          "metadata": {
            "tags": [],
            "needs_background": "light"
          }
        }
      ]
    },
    {
      "cell_type": "code",
      "metadata": {
        "colab": {
          "base_uri": "https://localhost:8080/",
          "height": 499
        },
        "id": "30ye5nO8YUdA",
        "outputId": "4281578f-1867-4fdd-d4e8-c4767af79c4c"
      },
      "source": [
        "y_pred = np.exp(model.predict(X_test_scaled))\n",
        "\n",
        "number_of_observations=100\n",
        "\n",
        "x_ax = range(len(y_test[:number_of_observations]))\n",
        "\n",
        "plt.figure(figsize=(20,10))\n",
        "plt.plot(x_ax, y_test[:number_of_observations], label=\"True\")\n",
        "plt.plot(x_ax, y_pred[:number_of_observations], label=\"Predicted\")\n",
        "plt.title(\"Car Price - True vs Predicted data\")\n",
        "plt.xlabel('Observation Number')\n",
        "plt.ylabel('Price')\n",
        "plt.xticks(np.arange(number_of_observations))\n",
        "plt.legend()\n",
        "plt.grid()\n",
        "plt.show()"
      ],
      "execution_count": 257,
      "outputs": [
        {
          "output_type": "display_data",
          "data": {
            "image/png": "[encoded data removed]",
            "text/plain": [
              "<Figure size 1440x720 with 1 Axes>"
            ]
          },
          "metadata": {
            "tags": [],
            "needs_background": "light"
          }
        }
      ]
    },
    {
      "cell_type": "markdown",
      "metadata": {
        "id": "Gc0RwtANX6He"
      },
      "source": [
        "### Neural Network"
      ]
    },
    {
      "cell_type": "code",
      "metadata": {
        "colab": {
          "base_uri": "https://localhost:8080/"
        },
        "id": "K2_SZuyiX9Vf",
        "outputId": "5b2e47df-5898-4584-e3ec-29809fa1af79"
      },
      "source": [
        "from keras.models import Sequential\n",
        "from keras.layers import Dense\n",
        "\n",
        "model_dl=Sequential()\n",
        "\n",
        "model_dl.add(Dense(16,input_dim=X_train_scaled.shape[1],activation='relu'))\n",
        "model_dl.add(Dense(8,activation='relu'))\n",
        "model_dl.add(Dense(4,activation='relu'))\n",
        "model_dl.add(Dense(1,activation='linear'))\n",
        "\n",
        "model_dl.compile(loss='mean_squared_error',optimizer='adam')\n",
        "\n",
        "model_dl.summary()\n",
        "\n",
        "epochs=20\n",
        "\n",
        "batch_size=10\n",
        "\n",
        "model_dl.fit(X_train_scaled,np.log(y_train),verbose=0,validation_data=(X_test_scaled,np.log(y_test)),epochs=epochs,batch_size=batch_size)\n"
      ],
      "execution_count": 260,
      "outputs": [
        {
          "output_type": "stream",
          "text": [
            "Model: \"sequential\"\n",
            "_________________________________________________________________\n",
            "Layer (type)                 Output Shape              Param #   \n",
            "=================================================================\n",
            "dense (Dense)                (None, 16)                17568     \n",
            "_________________________________________________________________\n",
            "dense_1 (Dense)              (None, 8)                 136       \n",
            "_________________________________________________________________\n",
            "dense_2 (Dense)              (None, 4)                 36        \n",
            "_________________________________________________________________\n",
            "dense_3 (Dense)              (None, 1)                 5         \n",
            "=================================================================\n",
            "Total params: 17,745\n",
            "Trainable params: 17,745\n",
            "Non-trainable params: 0\n",
            "_________________________________________________________________\n"
          ],
          "name": "stdout"
        },
        {
          "output_type": "execute_result",
          "data": {
            "text/plain": [
              "<keras.callbacks.History at 0x7fe7de45cf90>"
            ]
          },
          "metadata": {
            "tags": []
          },
          "execution_count": 260
        }
      ]
    },
    {
      "cell_type": "markdown",
      "metadata": {
        "id": "AvI6AZ4kbZKg"
      },
      "source": [
        "Plot the loss and validation loss of the dataset"
      ]
    },
    {
      "cell_type": "code",
      "metadata": {
        "colab": {
          "base_uri": "https://localhost:8080/",
          "height": 485
        },
        "id": "0XEYKfgFbcSU",
        "outputId": "725afdfb-33a5-4747-f7c1-603f3beee854"
      },
      "source": [
        "history_df = pd.DataFrame(model_dl.history.history)\n",
        "\n",
        "plt.figure(figsize=(20,10))\n",
        "\n",
        "plt.plot(history_df['loss'], label='loss')\n",
        "plt.plot(history_df['val_loss'], label='val_loss')\n",
        "plt.xticks(np.arange(1,epochs+1,2))\n",
        "\n",
        "plt.yticks(np.arange(1,max(history_df['loss']),0.5))\n",
        "plt.legend()\n",
        "plt.grid()"
      ],
      "execution_count": 261,
      "outputs": [
        {
          "output_type": "display_data",
          "data": {
            "image/png": "[encoded data removed]",
            "text/plain": [
              "<Figure size 1440x720 with 1 Axes>"
            ]
          },
          "metadata": {
            "tags": [],
            "needs_background": "light"
          }
        }
      ]
    },
    {
      "cell_type": "markdown",
      "metadata": {
        "id": "aQrkO8GzcG9u"
      },
      "source": [
        "Getting the metrics"
      ]
    },
    {
      "cell_type": "code",
      "metadata": {
        "colab": {
          "base_uri": "https://localhost:8080/"
        },
        "id": "L-ddDO4_cGF8",
        "outputId": "0c88707d-8e6e-4ac0-e6dd-43cf72c63474"
      },
      "source": [
        "predictions_dl = model_dl.predict(X_test_scaled)\n",
        "\n",
        "predictions_dl = np.exp(predictions_dl)\n",
        "\n",
        "mse_dl = mean_squared_error(y_test,predictions_dl)\n",
        "mae_dl = mean_absolute_error(y_test,predictions_dl)\n",
        "r2s_dl = r2_score(y_test,predictions_dl)\n",
        "msle_dl = mean_squared_log_error(y_test,predictions_dl)\n",
        "\n",
        "rmse_dl = round(np.sqrt(mse_dl),2) # Mean Squared Error\n",
        "mae_dl = round(mae_dl,2) # Mean Absolute Error\n",
        "r2s_dl = round(r2s_dl,2) # R^2 Score\n",
        "rmsle_dl = round(np.sqrt(msle_dl),2) # Root Mean Squared Log Error: it only cares about the percentual difference between them. MSLE will treat small differences between small true and predicted values approximately the same as big differences between large true and predicted values.\n",
        "\n",
        "results_dl = [rmse_dl,mae_dl,r2s_dl,rmsle_dl]\n",
        "\n",
        "results_dl"
      ],
      "execution_count": 264,
      "outputs": [
        {
          "output_type": "execute_result",
          "data": {
            "text/plain": [
              "[11956.14, 6997.4, 0.38, 1.15]"
            ]
          },
          "metadata": {
            "tags": []
          },
          "execution_count": 264
        }
      ]
    },
    {
      "cell_type": "markdown",
      "metadata": {
        "id": "Ao8NBqo6dKye"
      },
      "source": [
        "Plot the final table comparing the results:"
      ]
    },
    {
      "cell_type": "code",
      "metadata": {
        "colab": {
          "base_uri": "https://localhost:8080/"
        },
        "id": "8nqD2F2GdNwB",
        "outputId": "7e84d63f-6be4-4643-b064-4bff90eb3581"
      },
      "source": [
        "summary.add_row(['Neural Network']+results_dl)\n",
        "summary.add_row(['Small NN Post', round(np.sqrt(177649565.68),2), 7191.19, 'Not Defined', 1.31])\n",
        "\n",
        "print(summary)"
      ],
      "execution_count": 268,
      "outputs": [
        {
          "output_type": "stream",
          "text": [
            "+----------------+----------+---------+-------------+-------+\n",
            "|     Model      |   RMSE   |   MAE   |     R2S     | RMSLE |\n",
            "+----------------+----------+---------+-------------+-------+\n",
            "| Random Forest  | 7370.38  | 3866.15 |     0.76    |  0.96 |\n",
            "|    RF Post     | 10311.29 | 4595.32 | Not Defined |  0.79 |\n",
            "| Neural Network | 11956.14 |  6997.4 |     0.38    |  1.15 |\n",
            "| Small NN Post  | 13328.52 | 7191.19 | Not Defined |  1.31 |\n",
            "+----------------+----------+---------+-------------+-------+\n"
          ],
          "name": "stdout"
        }
      ]
    }
  ]
}
